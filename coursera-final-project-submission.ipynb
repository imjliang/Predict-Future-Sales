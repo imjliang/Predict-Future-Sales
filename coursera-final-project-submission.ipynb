{
 "cells": [
  {
   "cell_type": "markdown",
   "metadata": {},
   "source": [
    "**Before starting the Execution, make sure that the LGBM installed version supports GPU**"
   ]
  },
  {
   "cell_type": "code",
   "execution_count": null,
   "metadata": {
    "execution": {
     "iopub.execute_input": "2022-02-22T11:58:35.55481Z",
     "iopub.status.busy": "2022-02-22T11:58:35.554322Z",
     "iopub.status.idle": "2022-02-22T11:58:43.582091Z",
     "shell.execute_reply": "2022-02-22T11:58:43.581189Z",
     "shell.execute_reply.started": "2022-02-22T11:58:35.554708Z"
    }
   },
   "outputs": [],
   "source": [
    "# install LGBM for GPU Training and restart the RUNTIME\n",
    "import lightgbm\n",
    "import numpy as np\n",
    "import os\n",
    "def check_LGBM_gpu_support():\n",
    "    data = np.random.rand(50, 2)\n",
    "    label = np.random.randint(2, size=50)\n",
    "    train_data = lightgbm.Dataset(data, label=label)\n",
    "    params = { 'device': 'gpu'}\n",
    "    try:\n",
    "        gbm = lightgbm.train(params,num_boost_round = 1, train_set=train_data)#, verbose=False\n",
    "        return True\n",
    "    except Exception as e:\n",
    "        return False\n",
    "if (not check_LGBM_gpu_support()):\n",
    "    ! git clone --quiet --recursive https://github.com/Microsoft/LightGBM\n",
    "    ! cd LightGBM && rm -rf build && mkdir build && cd build && cmake -DUSE_GPU=1 ../../LightGBM && make -j4 && cd ../python-package && python3 setup.py install --precompile --gpu;\n",
    "    print('Kernel should be Restarted!')\n",
    "    os._exit(0)\n",
    "else:\n",
    "    print('LGBM GPU version installed!')"
   ]
  },
  {
   "cell_type": "markdown",
   "metadata": {},
   "source": [
    "# **Python Modules versions**"
   ]
  },
  {
   "cell_type": "markdown",
   "metadata": {},
   "source": [
    "* Numpy: 1.20.3 #np.version\n",
    "* Pandas: 1.3.5 #pd.version\n",
    "* SKLearn: 0.23.2 #sklearn. version\n",
    "* XGB: 1.5.2 # xgb.version\n",
    "* LGBM: 3.3.1 #lightgbm.version\n",
    "* CatBoost: 1.0.4 #cb.version"
   ]
  },
  {
   "cell_type": "markdown",
   "metadata": {},
   "source": [
    "# **0. Objective**"
   ]
  },
  {
   "cell_type": "markdown",
   "metadata": {},
   "source": [
    "* The competition provides daily sales transactions, timestamped with the day of the transaction, for different items per shops.\n",
    "* The training data are available for months (date_block_num) 0-33: Jan 2013 to Oct 2015\n",
    "* There are supporting data for items' names and categories, as well as for shops.\n",
    "* The purpose of the competition is to predict the monthly item sales per shop for the month (date_block_num) 34: Nov 2015"
   ]
  },
  {
   "cell_type": "code",
   "execution_count": null,
   "metadata": {
    "execution": {
     "iopub.execute_input": "2022-02-22T11:58:43.586558Z",
     "iopub.status.busy": "2022-02-22T11:58:43.586337Z",
     "iopub.status.idle": "2022-02-22T11:58:46.246881Z",
     "shell.execute_reply": "2022-02-22T11:58:46.246083Z",
     "shell.execute_reply.started": "2022-02-22T11:58:43.58653Z"
    }
   },
   "outputs": [],
   "source": [
    "import numpy as np \n",
    "import pandas as pd \n",
    "import matplotlib.pyplot as plt\n",
    "import seaborn as sns\n",
    "import pickle\n",
    "import gc\n",
    "from sklearn.preprocessing import LabelEncoder\n",
    "from matplotlib.pylab import rcParams\n",
    "from xgboost import XGBRegressor\n",
    "\n",
    "sns.set(style=\"darkgrid\")\n",
    "sns.set(rc = {'figure.figsize':(15,8)})\n",
    "aggregation_cols  = [\"date_block_num\", \"shop_id\", \"item_id\"]\n",
    "# load data\n",
    "PATH= r'E:\\GitHub\\Predict Future Sales\\input\\predict-future-sales-project-final\\\\'\n",
    "Kaggle_PATH= r'E:\\GitHub\\Predict Future Sales\\input\\\\'\n",
    "items=pd.read_csv(Kaggle_PATH+\"items.csv\")\n",
    "shops=pd.read_csv(Kaggle_PATH+\"shops.csv\")\n",
    "cats=pd.read_csv(Kaggle_PATH+\"item_categories.csv\")\n",
    "train=pd.read_csv(Kaggle_PATH+\"sales_train.csv\")\n",
    "test=pd.read_csv(Kaggle_PATH+\"test.csv\")\n",
    "\n",
    "USE_SERIALIZED_MODELS=True\n",
    "ENSEMBLING_METHOD = 2 # 0 for average, 1 for weighted average, 2 for stacking\n",
    "START_FROM_DICT={'run_all':0,'before_feature_engineering':1,'after_train_valid_split':2,'after_mean_encoding':3}\n",
    "START_FROM=0 \n",
    "### For submission only, use USE_SERIALIZED_MODELS=True, START_FROM=3 and ENSEMBLING_METHOD=2"
   ]
  },
  {
   "cell_type": "markdown",
   "metadata": {},
   "source": [
    "# **1. EDA**"
   ]
  },
  {
   "cell_type": "markdown",
   "metadata": {},
   "source": [
    "## **1.1 Data Structure**"
   ]
  },
  {
   "attachments": {
    "56268e76-deed-45ee-b2ab-b65220a4c1f5.png": {
     "image/png": "[encoded data removed]"
    }
   },
   "cell_type": "markdown",
   "metadata": {},
   "source": [
    "![image.png](attachment:56268e76-deed-45ee-b2ab-b65220a4c1f5.png)"
   ]
  },
  {
   "cell_type": "markdown",
   "metadata": {},
   "source": [
    "### 1.1.1 Exploring Transactions in the Training Set"
   ]
  },
  {
   "cell_type": "code",
   "execution_count": null,
   "metadata": {
    "execution": {
     "iopub.execute_input": "2022-02-22T11:58:46.248595Z",
     "iopub.status.busy": "2022-02-22T11:58:46.248305Z",
     "iopub.status.idle": "2022-02-22T11:58:46.253199Z",
     "shell.execute_reply": "2022-02-22T11:58:46.252219Z",
     "shell.execute_reply.started": "2022-02-22T11:58:46.248558Z"
    }
   },
   "outputs": [],
   "source": [
    "if (START_FROM==0):\n",
    "    print(train.head())"
   ]
  },
  {
   "cell_type": "code",
   "execution_count": null,
   "metadata": {
    "execution": {
     "iopub.execute_input": "2022-02-22T11:58:46.256341Z",
     "iopub.status.busy": "2022-02-22T11:58:46.25585Z",
     "iopub.status.idle": "2022-02-22T11:58:46.263079Z",
     "shell.execute_reply": "2022-02-22T11:58:46.262336Z",
     "shell.execute_reply.started": "2022-02-22T11:58:46.256302Z"
    }
   },
   "outputs": [],
   "source": [
    "if (START_FROM==0):\n",
    "    print(train.describe())"
   ]
  },
  {
   "cell_type": "code",
   "execution_count": null,
   "metadata": {
    "execution": {
     "iopub.execute_input": "2022-02-22T11:58:46.264874Z",
     "iopub.status.busy": "2022-02-22T11:58:46.264602Z",
     "iopub.status.idle": "2022-02-22T11:58:46.274317Z",
     "shell.execute_reply": "2022-02-22T11:58:46.273601Z",
     "shell.execute_reply.started": "2022-02-22T11:58:46.264837Z"
    }
   },
   "outputs": [],
   "source": [
    "# check if there is any NULL value\n",
    "if (START_FROM==0):\n",
    "    print(train.isna().any())"
   ]
  },
  {
   "cell_type": "code",
   "execution_count": null,
   "metadata": {
    "execution": {
     "iopub.execute_input": "2022-02-22T11:58:46.276017Z",
     "iopub.status.busy": "2022-02-22T11:58:46.275607Z",
     "iopub.status.idle": "2022-02-22T11:58:46.282752Z",
     "shell.execute_reply": "2022-02-22T11:58:46.282031Z",
     "shell.execute_reply.started": "2022-02-22T11:58:46.275903Z"
    }
   },
   "outputs": [],
   "source": [
    "# Check if there are outlier values for item_price\n",
    "if (START_FROM==0):\n",
    "    train['item_price'].plot()"
   ]
  },
  {
   "cell_type": "code",
   "execution_count": null,
   "metadata": {
    "execution": {
     "iopub.execute_input": "2022-02-22T11:58:46.284233Z",
     "iopub.status.busy": "2022-02-22T11:58:46.28398Z",
     "iopub.status.idle": "2022-02-22T11:58:46.290988Z",
     "shell.execute_reply": "2022-02-22T11:58:46.290279Z",
     "shell.execute_reply.started": "2022-02-22T11:58:46.284197Z"
    }
   },
   "outputs": [],
   "source": [
    "# check how many transactions are above the outlier tresholds: 0 and 50,000\n",
    "if (START_FROM==0):\n",
    "    print(train[train['item_price']>50000]['item_id'].unique(),train[train['item_price']>50000]['item_id'].count(),train[train['item_price']<0]['item_id'].count())\n",
    "    #train[train['item_id']==6674]"
   ]
  },
  {
   "cell_type": "code",
   "execution_count": null,
   "metadata": {
    "execution": {
     "iopub.execute_input": "2022-02-22T11:58:46.292663Z",
     "iopub.status.busy": "2022-02-22T11:58:46.292229Z",
     "iopub.status.idle": "2022-02-22T11:58:46.300096Z",
     "shell.execute_reply": "2022-02-22T11:58:46.299293Z",
     "shell.execute_reply.started": "2022-02-22T11:58:46.292627Z"
    }
   },
   "outputs": [],
   "source": [
    "# Check for items with a small number of transactions\n",
    "if (START_FROM==0):\n",
    "    item_transaction_count=train.groupby(['item_id'])['date'].count()\n",
    "    print(item_transaction_count[item_transaction_count<10].value_counts())"
   ]
  },
  {
   "cell_type": "code",
   "execution_count": null,
   "metadata": {
    "execution": {
     "iopub.execute_input": "2022-02-22T11:58:46.30106Z",
     "iopub.status.busy": "2022-02-22T11:58:46.300882Z",
     "iopub.status.idle": "2022-02-22T11:58:46.310066Z",
     "shell.execute_reply": "2022-02-22T11:58:46.309415Z",
     "shell.execute_reply.started": "2022-02-22T11:58:46.301038Z"
    }
   },
   "outputs": [],
   "source": [
    "# Check how many of the items with small number of transactions didn't sale for the last year\n",
    "if (START_FROM==0):\n",
    "    item_max_date_block=train.groupby([\"item_id\"])[\"date_block_num\"].max()\n",
    "    item_min_date_block=train.groupby([\"item_id\"])[\"date_block_num\"].min()\n",
    "    item_nb_transactions_last_date_block=pd.concat([item_transaction_count,item_max_date_block,item_min_date_block],axis=1)\n",
    "    item_nb_transactions_last_date_block.columns=['nbr_transactions','last_sale','first_sale']\n",
    "    item_nb_transactions_last_date_block['diff_first_last']=item_nb_transactions_last_date_block['last_sale']-item_nb_transactions_last_date_block['first_sale']\n",
    "    #item_nb_transactions_last_date_block['diff_first_last'].value_counts().sort_index() #sort_values()\n",
    "    print(item_nb_transactions_last_date_block[(item_nb_transactions_last_date_block['nbr_transactions']<10) & (item_nb_transactions_last_date_block['last_sale']<22)])"
   ]
  },
  {
   "cell_type": "code",
   "execution_count": null,
   "metadata": {
    "execution": {
     "iopub.execute_input": "2022-02-22T11:58:46.313618Z",
     "iopub.status.busy": "2022-02-22T11:58:46.313405Z",
     "iopub.status.idle": "2022-02-22T11:58:46.318795Z",
     "shell.execute_reply": "2022-02-22T11:58:46.318092Z",
     "shell.execute_reply.started": "2022-02-22T11:58:46.313587Z"
    }
   },
   "outputs": [],
   "source": [
    "# Check if there are outlier values for item_cnt_day\n",
    "if (START_FROM==0):\n",
    "    train['item_cnt_day'].plot()"
   ]
  },
  {
   "cell_type": "code",
   "execution_count": null,
   "metadata": {
    "execution": {
     "iopub.execute_input": "2022-02-22T11:58:46.320272Z",
     "iopub.status.busy": "2022-02-22T11:58:46.319955Z",
     "iopub.status.idle": "2022-02-22T11:58:46.326236Z",
     "shell.execute_reply": "2022-02-22T11:58:46.325436Z",
     "shell.execute_reply.started": "2022-02-22T11:58:46.320235Z"
    }
   },
   "outputs": [],
   "source": [
    "# Check the number of transactions outside the 0-750 thresholds and how many items had 'returns'\n",
    "if (START_FROM==0):\n",
    "    print(len(train[train['item_cnt_day']<0]['item_id'].unique()),train[train['item_cnt_day']<0]['item_id'].count(),train[train['item_cnt_day']>750]['item_id'].count())"
   ]
  },
  {
   "cell_type": "markdown",
   "metadata": {},
   "source": [
    "* Summary for the training transactions\n",
    "    - 2,935,849 Transactions\n",
    "    - No NULL/Missing values\n",
    "    - Item Prices from -1 to 307,980 [negative price does't make sense] We can consider prices below 0 and above 50,000 RUB as outliers.\n",
    "          # 1 US is around 60 RUB in late 2014\n",
    "    - item_cnt_day from -22 to 2169 [negative value indicates item return]\n",
    "          # There many items with a small number (<10) of transactions. If these items were discontinued for at least one year, it's better to remove their transactions.\n",
    "          # There are 7356 transactions for 'Return Items' and 2 tarnsaction with more than 750 item_cnt. They should be removed as they are singular transactions. Moreover, the return transactions are spread over 3511 items. That means that they are not a specific phenomena for a group of items and their number is small compared to the total number of transactions."
   ]
  },
  {
   "cell_type": "markdown",
   "metadata": {},
   "source": [
    "### **1.1.2 Exploring SHOP dataset**"
   ]
  },
  {
   "cell_type": "code",
   "execution_count": null,
   "metadata": {
    "execution": {
     "iopub.execute_input": "2022-02-22T11:58:46.328152Z",
     "iopub.status.busy": "2022-02-22T11:58:46.327843Z",
     "iopub.status.idle": "2022-02-22T11:58:46.336973Z",
     "shell.execute_reply": "2022-02-22T11:58:46.336218Z",
     "shell.execute_reply.started": "2022-02-22T11:58:46.328117Z"
    }
   },
   "outputs": [],
   "source": [
    "if (START_FROM==0):\n",
    "    print(shops)"
   ]
  },
  {
   "cell_type": "markdown",
   "metadata": {},
   "source": [
    "* The 'shops' data has the shop_id and shop_name and there are 60 shops\n",
    "* The shop_name is a string which has three parts 'city'+'location_type'+'specific_address' (I got the idea from the discussions and others' Kernels and I have checked using Google map and Google Translation)\n",
    "      - For easy string processing, we need to have these three parts 'space-separated'\n",
    "      - Shop 46: needs to be adjusted to avoid the space between its composed name 'Сергиев Посад'\n",
    "* We can see that there are dupplicated shop names:\n",
    "      - Shop 0 '!Якутск Орджоникидзе, 56 фран' with shop 57 'Якутск Орджоникидзе, 56'\n",
    "      - Shop 1 '!Якутск ТЦ \"Центральный\" фран' with shop 58 'Якутск ТЦ \"Центральный\"'\n",
    "      - shop 10 'Жуковский ул. Чкалова 39м?' with shop 11 'Жуковский ул. Чкалова 39м²'\n",
    "      - shop 40 'РостовНаДону ТРК \"Мегацентр Горизонт\"' with shop 39 'РостовНаДону ТРК \"Мегацентр Горизонт\"'\n",
    "* The location types are {'МТРЦ','ТК','ТРК','ТРЦ','ТЦ'}\n",
    "* The online stores:\n",
    "       - shop 11 'Интернет-магазин' : Online Strore\n",
    "       - shop 55 'Цифровой склад': Digital Warehouse"
   ]
  },
  {
   "cell_type": "markdown",
   "metadata": {},
   "source": [
    "### **1.1.3 Exploring Item Category Data (cats)**"
   ]
  },
  {
   "cell_type": "code",
   "execution_count": null,
   "metadata": {
    "execution": {
     "iopub.execute_input": "2022-02-22T11:58:46.33862Z",
     "iopub.status.busy": "2022-02-22T11:58:46.338309Z",
     "iopub.status.idle": "2022-02-22T11:58:46.345984Z",
     "shell.execute_reply": "2022-02-22T11:58:46.345112Z",
     "shell.execute_reply.started": "2022-02-22T11:58:46.338586Z"
    }
   },
   "outputs": [],
   "source": [
    "if (START_FROM==0):\n",
    "    print(cats.shape)\n",
    "    print(cats.head(20))"
   ]
  },
  {
   "cell_type": "code",
   "execution_count": null,
   "metadata": {
    "execution": {
     "iopub.execute_input": "2022-02-22T11:58:46.347533Z",
     "iopub.status.busy": "2022-02-22T11:58:46.346866Z",
     "iopub.status.idle": "2022-02-22T11:58:46.35487Z",
     "shell.execute_reply": "2022-02-22T11:58:46.35412Z",
     "shell.execute_reply.started": "2022-02-22T11:58:46.347494Z"
    }
   },
   "outputs": [],
   "source": [
    "if (START_FROM==0):\n",
    "    cats_type_code= cats.item_category_name.apply( lambda x: x.split(\" \")[0] ).astype(str)\n",
    "    print(cats_type_code.value_counts())\n",
    "# Игровые = Gaming, Игры = Games, Аксессуары = Accessories (but in here they are all linked to Gaming consoles)\n",
    "#cats[cats['item_category_name'].str.contains('Аксессуары')]"
   ]
  },
  {
   "cell_type": "markdown",
   "metadata": {},
   "source": [
    "* The item category name has two elements separated by 'space'\n",
    "    - The 'space' separation provides the category sub-type (Games, Books,.....). We should consider the groups which have 5+ categories. We need also to group 'Games','Gaming' and 'Accessories' together in 'Games' group and use it as category type.\n",
    "    - Subtype2 can be defined based on PC, Android, XBOX, PS, MAC split."
   ]
  },
  {
   "attachments": {
    "492cb386-2056-4683-93b0-11bc9811b42b.png": {
     "image/png": "[encoded data removed]"
    }
   },
   "cell_type": "markdown",
   "metadata": {},
   "source": [
    "![image.png](attachment:492cb386-2056-4683-93b0-11bc9811b42b.png)"
   ]
  },
  {
   "cell_type": "markdown",
   "metadata": {},
   "source": [
    "### **1.1.4 Exploring Items data**"
   ]
  },
  {
   "cell_type": "code",
   "execution_count": null,
   "metadata": {
    "execution": {
     "iopub.execute_input": "2022-02-22T11:58:46.358127Z",
     "iopub.status.busy": "2022-02-22T11:58:46.35792Z",
     "iopub.status.idle": "2022-02-22T11:58:46.36393Z",
     "shell.execute_reply": "2022-02-22T11:58:46.363121Z",
     "shell.execute_reply.started": "2022-02-22T11:58:46.358099Z"
    }
   },
   "outputs": [],
   "source": [
    "if (START_FROM==0):\n",
    "    print(items.head(20))\n",
    "    print(items.shape)"
   ]
  },
  {
   "cell_type": "markdown",
   "metadata": {},
   "source": [
    "* The Items dataframe includes the item_id, item_category_id and item_name.\n",
    "* To get features from the text we need to use NLP feature extraction techniques"
   ]
  },
  {
   "cell_type": "markdown",
   "metadata": {},
   "source": [
    "# **2. Data Visualization**"
   ]
  },
  {
   "cell_type": "markdown",
   "metadata": {},
   "source": [
    "## **2.1 Pivot Table for item_cnt_month by shop and month** (aggregated items)"
   ]
  },
  {
   "cell_type": "code",
   "execution_count": null,
   "metadata": {
    "execution": {
     "iopub.execute_input": "2022-02-22T11:58:46.366353Z",
     "iopub.status.busy": "2022-02-22T11:58:46.365948Z",
     "iopub.status.idle": "2022-02-22T11:58:46.373232Z",
     "shell.execute_reply": "2022-02-22T11:58:46.372278Z",
     "shell.execute_reply.started": "2022-02-22T11:58:46.366317Z"
    }
   },
   "outputs": [],
   "source": [
    "if (START_FROM==0):\n",
    "    df = train[['date_block_num','shop_id','item_id','item_cnt_day']]\n",
    "    pivot_cnt_month_per_shop = pd.pivot_table(data=df,index=['date_block_num'],columns=['shop_id'],fill_value=0,values='item_cnt_day',aggfunc=\"sum\")\n",
    "    pivot_cnt_month_per_shop.reset_index(drop=True,inplace=True)\n",
    "    pivot_cnt_month_per_shop.columns.name = None\n",
    "    pivot_cnt_month_per_shop.to_csv('pivot_date_shops.csv',index=False) # Explore the table using MS Excel\n",
    "    print(pivot_cnt_month_per_shop)"
   ]
  },
  {
   "cell_type": "code",
   "execution_count": null,
   "metadata": {
    "execution": {
     "iopub.execute_input": "2022-02-22T11:58:46.375135Z",
     "iopub.status.busy": "2022-02-22T11:58:46.374264Z",
     "iopub.status.idle": "2022-02-22T11:58:46.381894Z",
     "shell.execute_reply": "2022-02-22T11:58:46.381107Z",
     "shell.execute_reply.started": "2022-02-22T11:58:46.375093Z"
    }
   },
   "outputs": [],
   "source": [
    "# Plotting the Pivot table\n",
    "if (START_FROM==0):\n",
    "    plt.figure()\n",
    "    ax=pivot_cnt_month_per_shop.plot()\n",
    "    ax.legend(loc=(1.01, 0.01), ncol=2)\n",
    "    plt.tight_layout()"
   ]
  },
  {
   "cell_type": "markdown",
   "metadata": {},
   "source": [
    "* The analysis of the Pivot Table is better done in MS Excel to navigate easily through the table\n",
    "    * You can confirm that shops 0,1 and 10 records complement shops 57,58 and 11 respectively\n",
    "    * Shop 40 looks operating in parallel with shop 39 and droping after 11 months (they have the same name!!)\n",
    "    * Shops 8,9,20,23 have sporadic sales (looks noise). It's better to be removed from the training set.\n",
    "    * Shop 32 has only old records. It's better to remove them.\n",
    "* From the plot, we can see that item sales are peaking in December and they have a slight downward trend."
   ]
  },
  {
   "cell_type": "code",
   "execution_count": null,
   "metadata": {
    "execution": {
     "iopub.execute_input": "2022-02-22T11:58:46.383874Z",
     "iopub.status.busy": "2022-02-22T11:58:46.383051Z",
     "iopub.status.idle": "2022-02-22T11:58:46.389832Z",
     "shell.execute_reply": "2022-02-22T11:58:46.389153Z",
     "shell.execute_reply.started": "2022-02-22T11:58:46.383836Z"
    }
   },
   "outputs": [],
   "source": [
    "# Check the shops which are in the Public Test Dataset\n",
    "if (START_FROM==0):\n",
    "    print(np.sort(test['shop_id'].unique()))\n",
    "    # The noisy shops are not included in the Test dataset\n",
    "    # The shop 32 is not in the test dataset"
   ]
  },
  {
   "cell_type": "code",
   "execution_count": null,
   "metadata": {
    "execution": {
     "iopub.execute_input": "2022-02-22T11:58:46.391757Z",
     "iopub.status.busy": "2022-02-22T11:58:46.391458Z",
     "iopub.status.idle": "2022-02-22T11:58:46.398768Z",
     "shell.execute_reply": "2022-02-22T11:58:46.397001Z",
     "shell.execute_reply.started": "2022-02-22T11:58:46.391723Z"
    }
   },
   "outputs": [],
   "source": [
    "# Cumulative sales per month per shop\n",
    "if (START_FROM==0):\n",
    "    df = pivot_cnt_month_per_shop.cumsum()\n",
    "    plt.figure()\n",
    "    ax=df.plot()\n",
    "    ax.legend(loc=(1.01, 0.01), ncol=2)\n",
    "    plt.tight_layout()"
   ]
  },
  {
   "cell_type": "code",
   "execution_count": null,
   "metadata": {
    "execution": {
     "iopub.execute_input": "2022-02-22T11:58:46.400482Z",
     "iopub.status.busy": "2022-02-22T11:58:46.400196Z",
     "iopub.status.idle": "2022-02-22T11:58:46.406334Z",
     "shell.execute_reply": "2022-02-22T11:58:46.405464Z",
     "shell.execute_reply.started": "2022-02-22T11:58:46.400446Z"
    }
   },
   "outputs": [],
   "source": [
    "# shops with more than 100,000 item sold (cumulative since thier opening)\n",
    "if (START_FROM==0):\n",
    "    last_sum=df.iloc[33]\n",
    "    print(last_sum[last_sum>100000])"
   ]
  },
  {
   "cell_type": "markdown",
   "metadata": {},
   "source": [
    "## **2.2 Visualizing Revenues per date_block/Shop**"
   ]
  },
  {
   "cell_type": "code",
   "execution_count": null,
   "metadata": {
    "execution": {
     "iopub.execute_input": "2022-02-22T11:58:46.408105Z",
     "iopub.status.busy": "2022-02-22T11:58:46.407755Z",
     "iopub.status.idle": "2022-02-22T11:58:46.415793Z",
     "shell.execute_reply": "2022-02-22T11:58:46.414994Z",
     "shell.execute_reply.started": "2022-02-22T11:58:46.408068Z"
    }
   },
   "outputs": [],
   "source": [
    "if (START_FROM==0):\n",
    "    train['revenue']=train['item_price']*train['item_cnt_day']\n",
    "    pivot_revenue_month_per_shop=pd.pivot_table(train, values='revenue', index=['date_block_num'], columns=['shop_id'], aggfunc=np.sum,fill_value=0)\n",
    "    plt.figure()\n",
    "    ax=pivot_revenue_month_per_shop.plot()\n",
    "    ax.legend(loc=(1.01, 0.01), ncol=2)\n",
    "    plt.tight_layout()"
   ]
  },
  {
   "cell_type": "markdown",
   "metadata": {},
   "source": [
    "# **3. Data Cleaning**"
   ]
  },
  {
   "cell_type": "markdown",
   "metadata": {},
   "source": [
    "## **3.1 Cleaning based on the transactions**"
   ]
  },
  {
   "cell_type": "code",
   "execution_count": null,
   "metadata": {
    "execution": {
     "iopub.execute_input": "2022-02-22T11:58:46.417594Z",
     "iopub.status.busy": "2022-02-22T11:58:46.417335Z",
     "iopub.status.idle": "2022-02-22T11:58:46.426046Z",
     "shell.execute_reply": "2022-02-22T11:58:46.425332Z",
     "shell.execute_reply.started": "2022-02-22T11:58:46.417562Z"
    }
   },
   "outputs": [],
   "source": [
    "# Remove outliers\n",
    "if (START_FROM==0):\n",
    "    train = train[(train['item_price'] < 50000 )& (train['item_cnt_day'] < 1000) & (train['item_price'] > 0)]\n",
    "    # Remiving the transactions for items with less than 10 transactions ant the last transaction is at least 1-year old\n",
    "    item_transaction_count=train.groupby(['item_id'])['date'].count()\n",
    "    item_max_date_block=train.groupby([\"item_id\"])[\"date_block_num\"].max()\n",
    "    item_nb_transactions_last_date_block=pd.concat([item_transaction_count,item_max_date_block],axis=1)\n",
    "    item_nb_transactions_last_date_block.columns=['nbr_transactions','last_sale']\n",
    "    items_to_drop=item_nb_transactions_last_date_block[(item_nb_transactions_last_date_block['nbr_transactions']<10) & (item_nb_transactions_last_date_block['last_sale']<22)]\n",
    "    print('Shapes before the drop: ',train.shape,items.shape,items_to_drop.shape)\n",
    "    train=train[~train['item_id'].isin(list(items_to_drop.index))]\n",
    "    print('Shapes after the drop: ',train.shape)"
   ]
  },
  {
   "cell_type": "markdown",
   "metadata": {},
   "source": [
    "## **3.2 Cleaning based on the Shops exploration**"
   ]
  },
  {
   "cell_type": "code",
   "execution_count": null,
   "metadata": {
    "execution": {
     "iopub.execute_input": "2022-02-22T11:58:46.427631Z",
     "iopub.status.busy": "2022-02-22T11:58:46.427244Z",
     "iopub.status.idle": "2022-02-22T11:58:46.435325Z",
     "shell.execute_reply": "2022-02-22T11:58:46.434585Z",
     "shell.execute_reply.started": "2022-02-22T11:58:46.427595Z"
    }
   },
   "outputs": [],
   "source": [
    "if (START_FROM==0):\n",
    "    train['shop_id']=train['shop_id'].replace({0:57,1:58,11:10,40:39}) #,,23:34\n",
    "    train=train[~train['shop_id'].isin([8,9,20,23,32])]\n",
    "    test['shop_id']=test['shop_id'].replace({0:57,1:58,11:10,40:39})\n",
    "    # We can try to remove the shops which are not included in the test dataset\n",
    "    # We may have new shops appearing in the Private Test dataset. In the recent competitions, the public test dataset is not known.\n",
    "    #train=train.loc[train['shop_id'].isin(test['shop_id'].unique()),:] \n",
    "    train.reset_index(drop = True,inplace=True)\n",
    "    #test.reset_index(drop = True,inplace=True)\n",
    "    print('Shapes after the drop: ',train.shape)"
   ]
  },
  {
   "cell_type": "markdown",
   "metadata": {},
   "source": [
    "# **4. Auxilary Data Feature Encoding**"
   ]
  },
  {
   "cell_type": "markdown",
   "metadata": {},
   "source": [
    "## **4.1 SHOP Data**"
   ]
  },
  {
   "cell_type": "code",
   "execution_count": null,
   "metadata": {
    "execution": {
     "iopub.execute_input": "2022-02-22T11:58:46.436919Z",
     "iopub.status.busy": "2022-02-22T11:58:46.436643Z",
     "iopub.status.idle": "2022-02-22T11:58:46.446955Z",
     "shell.execute_reply": "2022-02-22T11:58:46.446242Z",
     "shell.execute_reply.started": "2022-02-22T11:58:46.436883Z"
    }
   },
   "outputs": [],
   "source": [
    "# Clean up some shop names and add 'city' and 'category' to shops df.\n",
    "if (START_FROM==0):\n",
    "    shops.loc[ shops['shop_name'] == 'Сергиев Посад ТЦ \"7Я\"',\"shop_name\" ] = 'СергиевПосад ТЦ \"7Я\"'\n",
    "    shops[\"city\"] = shops['shop_name'].str.split(\" \").map( lambda x: x[0] )\n",
    "    shops.loc[shops.city == \"!Якутск\", \"city\"] = \"Якутск\"\n",
    "    shops[\"shop_city\"] = LabelEncoder().fit_transform( shops[\"city\"] )\n",
    "\n",
    "    shops[\"category\"] = shops['shop_name'].str.split(\" \").map( lambda x: x[1] )\n",
    "    shop_location_dict={'ТК':1,'ТЦ':4,'ТРК':2,'ТРЦ':3,'МТРЦ':0}\n",
    "    shops['shop_category'] = shops['category'].apply( lambda x: shop_location_dict[x] if x in shop_location_dict else 0 )\n",
    "\n",
    "    shops = shops[[\"shop_id\", \"shop_category\", \"shop_city\"]]"
   ]
  },
  {
   "cell_type": "markdown",
   "metadata": {},
   "source": [
    "## **4.2 Item Category Feature Encoding**"
   ]
  },
  {
   "cell_type": "code",
   "execution_count": null,
   "metadata": {
    "execution": {
     "iopub.execute_input": "2022-02-22T11:58:46.44864Z",
     "iopub.status.busy": "2022-02-22T11:58:46.448397Z",
     "iopub.status.idle": "2022-02-22T11:58:46.458602Z",
     "shell.execute_reply": "2022-02-22T11:58:46.457759Z",
     "shell.execute_reply.started": "2022-02-22T11:58:46.448607Z"
    }
   },
   "outputs": [],
   "source": [
    "# Cleaning Item Category Data\n",
    "if (START_FROM==0):\n",
    "    cats[\"sub_type_code1\"] = cats.item_category_name.apply( lambda x: x.split(\" \")[0] ).astype(str)\n",
    "    #cats.loc[ (cats.type_code == \"Игровые\")| (cats.type_code == \"Аксессуары\"), \"category\" ] = \"Игры\"\n",
    "    category = []\n",
    "    for cat in cats[\"sub_type_code1\"].unique():\n",
    "        if len(cats[cats[\"sub_type_code1\"] == cat]) >= 5: \n",
    "            category.append( cat )\n",
    "    cats[\"sub_type_code1\"] = cats[\"sub_type_code1\"].apply(lambda x: x if (x in category) else \"others\")\n",
    "    cats[\"type_code\"] = cats[\"sub_type_code1\"]\n",
    "    cats[\"sub_type_code2\"] = cats[\"sub_type_code1\"]\n",
    "    cats.loc[ (cats[\"sub_type_code1\"] == \"Игровые\")| (cats[\"sub_type_code1\"] == \"Аксессуары\"), \"type_code\" ] = \"Игры\"\n",
    "    cats.loc[cats['sub_type_code1']=='Игры','sub_type_code2']=cats['item_category_name'].str[:8]\n",
    "    cats.loc[cats['sub_type_code1']=='Аксессуары','sub_type_code2']=cats['item_category_name'].str[:15]\n",
    "    cats.loc[cats['sub_type_code1']=='Игровые','sub_type_code2']=cats['item_category_name'].str[:20]\n",
    "    print(cats)"
   ]
  },
  {
   "cell_type": "code",
   "execution_count": null,
   "metadata": {
    "execution": {
     "iopub.execute_input": "2022-02-22T11:58:46.460393Z",
     "iopub.status.busy": "2022-02-22T11:58:46.460035Z",
     "iopub.status.idle": "2022-02-22T11:58:46.469584Z",
     "shell.execute_reply": "2022-02-22T11:58:46.468865Z",
     "shell.execute_reply.started": "2022-02-22T11:58:46.460341Z"
    }
   },
   "outputs": [],
   "source": [
    "# Label Encoding\n",
    "if (START_FROM==0):\n",
    "    cats[\"type_code\"] = LabelEncoder().fit_transform(cats[\"type_code\"])\n",
    "    cats[\"sub_type_code1\"] = LabelEncoder().fit_transform(cats[\"sub_type_code1\"])\n",
    "    cats[\"sub_type_code2\"] = LabelEncoder().fit_transform(cats[\"sub_type_code2\"])\n",
    "    # Removing the name and leaving numerical values only \n",
    "    cats = cats[[\"item_category_id\", \"sub_type_code1\",\"sub_type_code2\", \"type_code\"]]"
   ]
  },
  {
   "cell_type": "markdown",
   "metadata": {},
   "source": [
    "## **4.3 Item Features**"
   ]
  },
  {
   "cell_type": "markdown",
   "metadata": {},
   "source": [
    "* We create the Item features using TFIDF vectorization and we use PCA for dimensionality reduction.\n",
    "* We use Spacy tokenizer with the Russian language corpus\n",
    "* 'English Stop words' worked better than 'Russian Stop words'. Most likely because the text is based on Technical words.\n",
    "* We use PCA with 6 components. It's a Hyperparameter to tune. I tried 2,4,6 and 8. 6 worked best for me. "
   ]
  },
  {
   "cell_type": "code",
   "execution_count": null,
   "metadata": {
    "execution": {
     "iopub.execute_input": "2022-02-22T11:58:46.47132Z",
     "iopub.status.busy": "2022-02-22T11:58:46.471061Z",
     "iopub.status.idle": "2022-02-22T11:58:46.487783Z",
     "shell.execute_reply": "2022-02-22T11:58:46.487016Z",
     "shell.execute_reply.started": "2022-02-22T11:58:46.471284Z"
    }
   },
   "outputs": [],
   "source": [
    "if (START_FROM==0):\n",
    "    import spacy\n",
    "    #!python -m spacy download ru_core_news_md #ru_core_news_sm ru_core_news_lg\n",
    "    from sklearn.feature_extraction.text import TfidfVectorizer\n",
    "    from sklearn.decomposition import PCA\n",
    "    #russian_stopwords = open('../input/russian-stop-words/stopwords-ru.txt', 'r').read().splitlines()\n",
    "\n",
    "    def preprocess_items(items,nb_components=4):\n",
    "        class LemmaTokenizer(object):\n",
    "            def __init__(self):\n",
    "                self.spacynlp = spacy.load('ru_core_news_md') #Lighter version is ru_core_news_md (40 Mbytes vs. 490 MBytes--ru_core_news_lg) \n",
    "            def __call__(self, doc):\n",
    "                nlpdoc = self.spacynlp(doc)\n",
    "                #nlpdoc = [token.lemma_.strip() for token in nlpdoc if ((len(token.lemma_.strip()) > 1) and (token.lemma_.strip().isalpha())) ]\n",
    "                nlpdoc = [token.lemma_.strip() for token in nlpdoc if ((len(token.lemma_.strip()) > 1) or (token.lemma_.strip().isalnum())) ]\n",
    "                return nlpdoc\n",
    "\n",
    "        vect = TfidfVectorizer(tokenizer=LemmaTokenizer(),stop_words='english')\n",
    "        features=vect.fit_transform(items['item_name'])\n",
    "        pca = PCA(n_components=nb_components, random_state=999)\n",
    "        reduced_features = pca.fit_transform(features.toarray())\n",
    "        for i in range(nb_components):\n",
    "            items['items_pca'+str(i)]=reduced_features[:,i]\n",
    "        return items.drop('item_name',axis=1)\n",
    "    items_nb_components=6\n",
    "    if items_nb_components!=0:\n",
    "        items=preprocess_items(items,items_nb_components)\n",
    "    else:\n",
    "        items.drop('item_name',axis=1,inplace=True)"
   ]
  },
  {
   "cell_type": "code",
   "execution_count": null,
   "metadata": {},
   "outputs": [],
   "source": [
    "items.head()"
   ]
  },
  {
   "cell_type": "markdown",
   "metadata": {},
   "source": [
    "# **5. Building the Training/Validation/Test Datasets**"
   ]
  },
  {
   "cell_type": "markdown",
   "metadata": {},
   "source": [
    "## **5.1 Building the preprocessing matrix (train and test combination for Item/Shop/dateblock)**"
   ]
  },
  {
   "cell_type": "code",
   "execution_count": null,
   "metadata": {
    "execution": {
     "iopub.execute_input": "2022-02-22T11:58:46.493664Z",
     "iopub.status.busy": "2022-02-22T11:58:46.493475Z",
     "iopub.status.idle": "2022-02-22T11:58:46.510151Z",
     "shell.execute_reply": "2022-02-22T11:58:46.50942Z",
     "shell.execute_reply.started": "2022-02-22T11:58:46.493642Z"
    }
   },
   "outputs": [],
   "source": [
    "# Preprocessing create a matrix df with every combination of month, shop and item in order of increasing month. Item_cnt_day is summed into an item_cnt_month.\n",
    "if (START_FROM==0):\n",
    "    from itertools import product\n",
    "    matrix = []\n",
    "\n",
    "    for i in range(34):\n",
    "        sales = train[train.date_block_num == i]\n",
    "        matrix.append( np.array(list( product( [i], sales.shop_id.unique(), sales.item_id.unique() ) ), dtype = np.int16) )\n",
    "\n",
    "    matrix = pd.DataFrame( np.vstack(matrix), columns = aggregation_cols )\n",
    "    matrix[\"date_block_num\"] = matrix[\"date_block_num\"].astype(np.int8)\n",
    "    matrix[\"shop_id\"] = matrix[\"shop_id\"].astype(np.int8)\n",
    "    matrix[\"item_id\"] = matrix[\"item_id\"].astype(np.int16)\n",
    "    matrix.sort_values( aggregation_cols, inplace = True )\n",
    "\n",
    "    # add revenue to train df\n",
    "    group = train.groupby(aggregation_cols).agg( {\"item_cnt_day\": [\"sum\"]} )\n",
    "    group.columns = [\"item_cnt_month\"]\n",
    "    group.reset_index( inplace = True)\n",
    "    matrix = pd.merge( matrix, group, on = aggregation_cols, how = \"left\" )\n",
    "    matrix[\"item_cnt_month\"] = matrix[\"item_cnt_month\"].fillna(0).astype(np.float16)\n",
    "\n",
    "    # Create a test set for month 34.\n",
    "    test[\"date_block_num\"] = 34\n",
    "    test[\"date_block_num\"] = test[\"date_block_num\"].astype(np.int8)\n",
    "    test[\"shop_id\"] = test.shop_id.astype(np.int8)\n",
    "    test[\"item_id\"] = test.item_id.astype(np.int16)\n",
    "\n",
    "    # Concatenate train and test sets.\n",
    "    matrix = pd.concat([matrix, test.drop([\"ID\"],axis = 1)], ignore_index=True, sort=False, keys=aggregation_cols)\n",
    "    matrix.fillna( 0, inplace = True )\n",
    "\n",
    "    # Add shop, items and categories data onto matrix df.\n",
    "    matrix = pd.merge( matrix, shops, on = [\"shop_id\"], how = \"left\" )\n",
    "    matrix = pd.merge(matrix, items, on = [\"item_id\"], how = \"left\")\n",
    "    matrix = pd.merge( matrix, cats, on = [\"item_category_id\"], how = \"left\" )\n",
    "    matrix[\"shop_city\"] = matrix[\"shop_city\"].astype(np.int8)\n",
    "    matrix[\"shop_category\"] = matrix[\"shop_category\"].astype(np.int8)\n",
    "    matrix[\"item_category_id\"] = matrix[\"item_category_id\"].astype(np.int8)\n",
    "    matrix[\"sub_type_code1\"] = matrix[\"sub_type_code1\"].astype(np.int8)\n",
    "    matrix[\"sub_type_code2\"] = matrix[\"sub_type_code2\"].astype(np.int8)\n",
    "    matrix[\"type_code\"] = matrix[\"type_code\"].astype(np.int8)\n",
    "    for i in range(items_nb_components):\n",
    "        matrix['items_pca'+str(i)]=matrix['items_pca'+str(i)].astype(np.float16)"
   ]
  },
  {
   "cell_type": "code",
   "execution_count": null,
   "metadata": {
    "execution": {
     "iopub.execute_input": "2022-02-22T11:58:46.511848Z",
     "iopub.status.busy": "2022-02-22T11:58:46.511509Z",
     "iopub.status.idle": "2022-02-22T11:58:46.519932Z",
     "shell.execute_reply": "2022-02-22T11:58:46.519149Z",
     "shell.execute_reply.started": "2022-02-22T11:58:46.511813Z"
    }
   },
   "outputs": [],
   "source": [
    "if (START_FROM==0):\n",
    "    pickle.dump( matrix, open( \"matrix_00_init_10Feb.pkl\", \"wb\" ) )\n",
    "    print('Before Feature Engineering Executed!!')\n",
    "else: \n",
    "    print('Jumped to Feature Engineering START_FROM>0')\n",
    "if (START_FROM==1):\n",
    "    matrix=pickle.load(open( PATH+\"matrix_00_init_10Feb.pkl\", \"rb\" ) )"
   ]
  },
  {
   "cell_type": "markdown",
   "metadata": {},
   "source": [
    "## **5.2 Feature Enginnering I- Adding Lag-based features**"
   ]
  },
  {
   "cell_type": "code",
   "execution_count": null,
   "metadata": {
    "execution": {
     "iopub.execute_input": "2022-02-22T11:58:46.522263Z",
     "iopub.status.busy": "2022-02-22T11:58:46.521809Z",
     "iopub.status.idle": "2022-02-22T11:58:46.532325Z",
     "shell.execute_reply": "2022-02-22T11:58:46.53142Z",
     "shell.execute_reply.started": "2022-02-22T11:58:46.522197Z"
    }
   },
   "outputs": [],
   "source": [
    "# Define a lag feature function\n",
    "def lag_feature( df,lags, cols ):\n",
    "    for col in cols:\n",
    "        tmp = df[aggregation_cols+[col]]\n",
    "        for i in lags:\n",
    "            shifted = tmp.copy()\n",
    "            shifted.columns = aggregation_cols+[ col + \"_lag_\"+str(i)]\n",
    "            shifted['date_block_num'] = shifted['date_block_num'] + i\n",
    "            df = pd.merge(df, shifted, on=aggregation_cols, how='left')\n",
    "    return df\n",
    "\n",
    "def add_feature_using_lag(src_df,dest_df,feature_name,groupby_list,aggregate_item,aggregate_func_list,lag_list,with_drop=True,np_type=np.float16):\n",
    "    group = src_df.groupby(groupby_list ).agg({aggregate_item :aggregate_func_list})\n",
    "    group.columns = [feature_name]\n",
    "    group.reset_index(inplace = True)\n",
    "    dest_df = dest_df.merge(group, on = groupby_list, how = \"left\")\n",
    "    dest_df[feature_name] = dest_df[feature_name].astype(np_type)\n",
    "    if lag_list!=0: dest_df = lag_feature( dest_df, lag_list, [feature_name] )\n",
    "    if with_drop: dest_df.drop( [feature_name], axis = 1, inplace = True )\n",
    "    return dest_df\n"
   ]
  },
  {
   "cell_type": "markdown",
   "metadata": {},
   "source": [
    "### **5.2.1 item_cnt_month lag features for different combinations**"
   ]
  },
  {
   "cell_type": "code",
   "execution_count": null,
   "metadata": {
    "execution": {
     "iopub.execute_input": "2022-02-22T11:58:46.535022Z",
     "iopub.status.busy": "2022-02-22T11:58:46.534809Z",
     "iopub.status.idle": "2022-02-22T11:58:46.546789Z",
     "shell.execute_reply": "2022-02-22T11:58:46.545882Z",
     "shell.execute_reply.started": "2022-02-22T11:58:46.534996Z"
    }
   },
   "outputs": [],
   "source": [
    "# Feature Engineering, add lag features to matrix df.\n",
    "if (START_FROM<2):\n",
    "    print('1- Adding item_cnt_month lag features.') \n",
    "    matrix = lag_feature( matrix, [1,2,3], [\"item_cnt_month\"] )\n",
    "    print('2- Adding the previous month average item_cnt.')\n",
    "    matrix =add_feature_using_lag(matrix,matrix,\"date_avg_item_cnt\",[\"date_block_num\"],\"item_cnt_month\",[\"mean\"],[1])\n",
    "    print('3- Adding lag values of item_cnt_month for month / item_id.')\n",
    "    matrix =add_feature_using_lag(matrix,matrix,'date_item_avg_item_cnt',['date_block_num', 'item_id'],\"item_cnt_month\",[\"mean\"],[1,2,3])\n",
    "    print('4- Adding lag values for item_cnt_month for every month / shop combination.')\n",
    "    matrix =add_feature_using_lag(matrix,matrix,'date_shop_avg_item_cnt',[\"date_block_num\",\"shop_id\"],\"item_cnt_month\",[\"mean\"],[1,2,3])\n",
    "    print('5- Adding lag values for item_cnt_month for month/shop/item.')\n",
    "    matrix =add_feature_using_lag(matrix,matrix,'date_shop_item_avg_item_cnt', [\"date_block_num\",\"shop_id\",\"item_id\"],\"item_cnt_month\",[\"mean\"],[1,2,3])\n",
    "    print('6- Adding lag values for item_cnt_month for month/shop/item subtype1.')\n",
    "    matrix =add_feature_using_lag(matrix,matrix,'date_shop_subtype1_avg_item_cnt', ['date_block_num', 'shop_id', 'sub_type_code1'],\"item_cnt_month\",[\"mean\"],[1])\n",
    "    print('7- Adding lag values for item_cnt_month for month/shop/item subtype2.')\n",
    "    matrix =add_feature_using_lag(matrix,matrix,'date_shop_subtype2_avg_item_cnt', ['date_block_num', 'shop_id', 'sub_type_code2'],\"item_cnt_month\",[\"mean\"],[1])\n",
    "    print('8- Adding lag values for item_cnt_month for month/city.')\n",
    "    matrix =add_feature_using_lag(matrix,matrix,'date_city_avg_item_cnt', ['date_block_num', 'shop_city'],\"item_cnt_month\",[\"mean\"],[1])\n",
    "    print('9- Adding lag values for item_cnt_month for month/city/item.')\n",
    "    matrix =add_feature_using_lag(matrix,matrix,'date_item_city_avg_item_cnt', ['date_block_num', 'item_id', 'shop_city'],\"item_cnt_month\",[\"mean\"],[1])"
   ]
  },
  {
   "cell_type": "markdown",
   "metadata": {},
   "source": [
    "### **5.2.2 Item Price-based lag features**"
   ]
  },
  {
   "cell_type": "code",
   "execution_count": null,
   "metadata": {
    "execution": {
     "iopub.execute_input": "2022-02-22T11:58:46.548702Z",
     "iopub.status.busy": "2022-02-22T11:58:46.548338Z",
     "iopub.status.idle": "2022-02-22T11:58:46.561485Z",
     "shell.execute_reply": "2022-02-22T11:58:46.560806Z",
     "shell.execute_reply.started": "2022-02-22T11:58:46.548668Z"
    }
   },
   "outputs": [],
   "source": [
    "if (START_FROM<2):\n",
    "    print('1- Adding average item price') \n",
    "    matrix =add_feature_using_lag(train,matrix,'item_avg_item_price',[\"item_id\"],\"item_price\",[\"mean\"],[],with_drop=False)\n",
    "    print('2- Adding item price average per month')\n",
    "    matrix =add_feature_using_lag(train,matrix,'date_item_avg_item_price',[\"date_block_num\",\"item_id\"],\n",
    "                                  \"item_price\",[\"mean\"],[1,2,3],with_drop=False)\n",
    "\n",
    "    # Add delta price values - how current month average pirce relates to global average.\n",
    "    print('3- Adding avg item price per month change over previous months (lag values)')\n",
    "    lags = [1, 2, 3]\n",
    "    for i in lags:\n",
    "        matrix[\"delta_price_lag_\" + str(i) ] = (matrix[\"date_item_avg_item_price_lag_\" + str(i)]- matrix[\"item_avg_item_price\"] )/ matrix[\"item_avg_item_price\"]\n",
    "\n",
    "    def select_trends(row) :\n",
    "        for i in lags:\n",
    "            if row[\"delta_price_lag_\" + str(i)]:\n",
    "                return row[\"delta_price_lag_\" + str(i)]\n",
    "        return 0\n",
    "\n",
    "    matrix[\"delta_price_lag\"] = matrix.apply(select_trends, axis = 1)\n",
    "    matrix[\"delta_price_lag\"] = matrix['delta_price_lag'].astype( np.float16 )\n",
    "    matrix[\"delta_price_lag\"].fillna( 0 ,inplace = True)\n",
    "\n",
    "    features_to_drop = [\"item_avg_item_price\", \"date_item_avg_item_price\"]\n",
    "    for i in lags:\n",
    "        features_to_drop.append(\"date_item_avg_item_price_lag_\" + str(i) )\n",
    "        features_to_drop.append(\"delta_price_lag_\" + str(i) )\n",
    "    matrix.drop(features_to_drop, axis = 1, inplace = True)"
   ]
  },
  {
   "cell_type": "markdown",
   "metadata": {},
   "source": [
    "### **5.2.3 Revenue-based Features**"
   ]
  },
  {
   "cell_type": "code",
   "execution_count": null,
   "metadata": {
    "execution": {
     "iopub.execute_input": "2022-02-22T11:58:46.563323Z",
     "iopub.status.busy": "2022-02-22T11:58:46.563009Z",
     "iopub.status.idle": "2022-02-22T11:58:46.571749Z",
     "shell.execute_reply": "2022-02-22T11:58:46.571004Z",
     "shell.execute_reply.started": "2022-02-22T11:58:46.563288Z"
    }
   },
   "outputs": [],
   "source": [
    "if (START_FROM<2):\n",
    "    train[\"revenue\"] = train[\"item_cnt_day\"] * train[\"item_price\"]\n",
    "    print('1- Adding total shop revenue per month.')\n",
    "    matrix =add_feature_using_lag(train,matrix,'date_shop_revenue', \n",
    "                 [\"date_block_num\",\"shop_id\"],\"revenue\",[\"sum\"],[],with_drop=False,np_type=np.float32)\n",
    "    matrix =add_feature_using_lag(matrix,matrix,'shop_avg_revenue', \n",
    "                 [\"shop_id\"],\"date_shop_revenue\",[\"mean\"],[],with_drop=False,np_type=np.float32)\n",
    "    # Add lag values of revenue per month.\n",
    "    # Add delta revenue values - how current month revenue relates to global average.\n",
    "\n",
    "    matrix[\"delta_revenue\"] = (matrix['date_shop_revenue'] - matrix['shop_avg_revenue']) / matrix['shop_avg_revenue']\n",
    "    matrix[\"delta_revenue\"] = matrix[\"delta_revenue\"]. astype(np.float32)\n",
    "\n",
    "    matrix = lag_feature(matrix, [1], [\"delta_revenue\"])\n",
    "    matrix[\"delta_revenue_lag_1\"] = matrix[\"delta_revenue_lag_1\"].astype(np.float32)\n",
    "    matrix.drop( [\"date_shop_revenue\", \"shop_avg_revenue\", \"delta_revenue\"] ,axis = 1, inplace = True)"
   ]
  },
  {
   "cell_type": "markdown",
   "metadata": {},
   "source": [
    "## **5.3 Feature Engineering II- Other features**"
   ]
  },
  {
   "cell_type": "code",
   "execution_count": null,
   "metadata": {
    "execution": {
     "iopub.execute_input": "2022-02-22T11:58:46.573773Z",
     "iopub.status.busy": "2022-02-22T11:58:46.573163Z",
     "iopub.status.idle": "2022-02-22T11:58:46.586836Z",
     "shell.execute_reply": "2022-02-22T11:58:46.586131Z",
     "shell.execute_reply.started": "2022-02-22T11:58:46.573581Z"
    }
   },
   "outputs": [],
   "source": [
    "if (START_FROM<2):\n",
    "    def nb_business_days(y,m):\n",
    "        current_month=str(y)+'-'+('0' if m<10 else '')+str(m)\n",
    "        if m==12:\n",
    "            y+=1\n",
    "            m=1\n",
    "        else:\n",
    "            m+=1\n",
    "        next_month=str(y)+'-'+('0' if m<10 else '')+str(m)\n",
    "        return np.busday_count(current_month, next_month)\n",
    "\n",
    "    # Add month and number of days in each month to matrix df.\n",
    "    matrix[\"month\"] = matrix[\"date_block_num\"] % 12\n",
    "    matrix['year']  =matrix['date_block_num']//12\n",
    "    days = pd.Series([31,28,31,30,31,30,31,31,30,31,30,31])\n",
    "    matrix[\"days\"] = matrix[\"month\"].map(days).astype(np.int8)\n",
    "    matrix['year']=matrix['year'].astype('int8')\n",
    "    # Add month's number of business days and weekends\n",
    "    tmp_series=pd.Series(np.linspace(0,34,35),dtype=np.int8)\n",
    "    nb_business_days_arr=tmp_series.apply(lambda x: nb_business_days(x//12+2012, x%12+1)) \n",
    "    matrix['nb_business_days']=matrix['date_block_num'].map(nb_business_days_arr).astype(np.int8)\n",
    "    matrix['nb_holiday_days']=matrix[\"days\"]-matrix['nb_business_days']\n",
    "    matrix['nb_holiday_days']=matrix['nb_holiday_days'].astype(np.int8)\n",
    "    # Add the month of each shop and item first sale.\n",
    "    matrix[\"item_shop_first_sale\"] = matrix[\"date_block_num\"] - matrix.groupby([\"item_id\",\"shop_id\"])[\"date_block_num\"].transform('min')\n",
    "    matrix[\"item_first_sale\"] = matrix[\"date_block_num\"] - matrix.groupby([\"item_id\"])[\"date_block_num\"].transform('min')\n",
    "\n",
    "    # Delete first three months from matrix. They don't have lag values.\n",
    "    matrix = matrix[matrix[\"date_block_num\"] > 3]"
   ]
  },
  {
   "cell_type": "markdown",
   "metadata": {},
   "source": [
    "## **5.4 Building Train/Valid/Test Datasets**"
   ]
  },
  {
   "cell_type": "code",
   "execution_count": null,
   "metadata": {
    "execution": {
     "iopub.execute_input": "2022-02-22T11:58:46.588454Z",
     "iopub.status.busy": "2022-02-22T11:58:46.588093Z",
     "iopub.status.idle": "2022-02-22T11:58:46.59879Z",
     "shell.execute_reply": "2022-02-22T11:58:46.597978Z",
     "shell.execute_reply.started": "2022-02-22T11:58:46.588417Z"
    }
   },
   "outputs": [],
   "source": [
    "if (START_FROM<2):\n",
    "    data = matrix.copy()\n",
    "    del matrix\n",
    "    gc.collect()\n",
    "\n",
    "    X_train = data[data.date_block_num < 33].drop(['item_cnt_month'], axis=1)\n",
    "    Y_train = data[data.date_block_num < 33]['item_cnt_month']\n",
    "    X_valid = data[data.date_block_num == 33].drop(['item_cnt_month'], axis=1)\n",
    "    Y_valid = data[data.date_block_num == 33]['item_cnt_month']\n",
    "    X_test = data[data.date_block_num == 34].drop(['item_cnt_month'], axis=1)\n",
    "    X_train.fillna(0,inplace=True)\n",
    "    X_valid.fillna(0,inplace=True)\n",
    "    X_test.fillna(0,inplace=True)\n",
    "    Y_train = Y_train.clip(0, 20).fillna(0).astype(np.float32)\n",
    "    Y_valid = Y_valid.clip(0, 20).fillna(0).astype(np.float32)\n",
    "\n",
    "    del data"
   ]
  },
  {
   "cell_type": "code",
   "execution_count": null,
   "metadata": {
    "execution": {
     "iopub.execute_input": "2022-02-22T11:58:46.600633Z",
     "iopub.status.busy": "2022-02-22T11:58:46.600275Z",
     "iopub.status.idle": "2022-02-22T11:58:46.610657Z",
     "shell.execute_reply": "2022-02-22T11:58:46.609674Z",
     "shell.execute_reply.started": "2022-02-22T11:58:46.600597Z"
    }
   },
   "outputs": [],
   "source": [
    "if (START_FROM<2):\n",
    "    pickle.dump( (X_train,Y_train,X_valid,Y_valid,X_test), open( \"training_datasets_00_10Feb.pkl\", \"wb\" ) )\n",
    "    print('Until Train_Valid_Split Executed!!')\n",
    "else:\n",
    "    print('Jumped After Train_Valid_Split!!')\n",
    "if (START_FROM==2):\n",
    "    X_train,Y_train,X_valid,Y_valid,X_test = pickle.load(open( PATH+'training_datasets_00_10Feb.pkl', \"rb\" ) )\n",
    "    X_train.fillna(0,inplace=True)\n",
    "    X_valid.fillna(0,inplace=True)\n",
    "    X_test.fillna(0,inplace=True)\n",
    "    Y_train = Y_train.clip(0, 20).fillna(0).astype(np.float32)\n",
    "    Y_valid = Y_valid.clip(0, 20).fillna(0).astype(np.float32)\n",
    "    gc.collect()"
   ]
  },
  {
   "cell_type": "markdown",
   "metadata": {},
   "source": [
    "# 6. **Baseline scores and Leaderboard probing**"
   ]
  },
  {
   "cell_type": "markdown",
   "metadata": {},
   "source": [
    "## 6.1 Leaderboard Probing"
   ]
  },
  {
   "cell_type": "code",
   "execution_count": null,
   "metadata": {
    "execution": {
     "iopub.execute_input": "2022-02-22T11:58:46.612902Z",
     "iopub.status.busy": "2022-02-22T11:58:46.612254Z",
     "iopub.status.idle": "2022-02-22T11:58:46.618161Z",
     "shell.execute_reply": "2022-02-22T11:58:46.617264Z",
     "shell.execute_reply.started": "2022-02-22T11:58:46.612876Z"
    }
   },
   "outputs": [],
   "source": [
    "# The date_block_num 33 average\n",
    "if (START_FROM<3):\n",
    "    print(Y_valid.mean())"
   ]
  },
  {
   "cell_type": "code",
   "execution_count": null,
   "metadata": {
    "execution": {
     "iopub.execute_input": "2022-02-22T11:58:46.620218Z",
     "iopub.status.busy": "2022-02-22T11:58:46.619741Z",
     "iopub.status.idle": "2022-02-22T11:58:47.060678Z",
     "shell.execute_reply": "2022-02-22T11:58:47.059933Z",
     "shell.execute_reply.started": "2022-02-22T11:58:46.620182Z"
    }
   },
   "outputs": [],
   "source": [
    "cst=0.285\n",
    "sample = test[['ID']].copy()\n",
    "sample['item_cnt_month']= cst\n",
    "sample[['ID','item_cnt_month']].to_csv('submission_constant_'+str(cst)+'.csv', index=False)"
   ]
  },
  {
   "attachments": {
    "79572328-4922-4770-a850-f6bb6d507ce4.png": {
     "image/png": "[encoded data removed]"
    }
   },
   "cell_type": "markdown",
   "metadata": {},
   "source": [
    "\n",
    "* We used constant values:\n",
    "* We can conclude that the mean of the test set is very close to the mean of the training set.\n",
    "    - The average of the Test set is 0.285\n",
    "    - The average of block=33 is 0.258\n",
    "![image.png](attachment:79572328-4922-4770-a850-f6bb6d507ce4.png)"
   ]
  },
  {
   "cell_type": "markdown",
   "metadata": {},
   "source": [
    "## **6.2 Baseline score:** using previous months count otherwise '0'"
   ]
  },
  {
   "cell_type": "markdown",
   "metadata": {},
   "source": [
    "* last month, fillna(0), clip(0,20)    : public LB: 1.167778 --private: 1.172726\n",
    "* last 3 months , fillna(0), clip(0,20): public LB: 1.09979\n",
    "* last 4 months , fillna(0), clip(0,20): public LB: 1.08401\n",
    "* last 6 months , fillna(0), clip(0,20): public LB: 1.10126"
   ]
  },
  {
   "cell_type": "markdown",
   "metadata": {},
   "source": [
    "### **6.2.1 Last month count**"
   ]
  },
  {
   "cell_type": "markdown",
   "metadata": {},
   "source": [
    "* The following code uses the date_block 33 values as predictions for the next block\n",
    "* Using Coursera Grader: Your public and private LB scores are: 1.167778 and 1.172726.\n",
    "* It's an improvement comapred to the 'constant value' but still far from the best LB score @10 Feb 2022: 0.75368"
   ]
  },
  {
   "cell_type": "code",
   "execution_count": null,
   "metadata": {
    "execution": {
     "iopub.execute_input": "2022-02-22T11:58:47.063603Z",
     "iopub.status.busy": "2022-02-22T11:58:47.063165Z",
     "iopub.status.idle": "2022-02-22T11:58:47.546045Z",
     "shell.execute_reply": "2022-02-22T11:58:47.545283Z",
     "shell.execute_reply.started": "2022-02-22T11:58:47.063564Z"
    }
   },
   "outputs": [],
   "source": [
    "last_month_cnt=train[train['date_block_num']==33].groupby(['shop_id','item_id'])['item_cnt_day'].sum().reset_index()\n",
    "last_month_cnt.rename(columns={'item_cnt_day':'item_cnt_month'},inplace=True)\n",
    "df_test=pd.merge(test, last_month_cnt, how=\"left\", on=[\"shop_id\", \"item_id\"])\n",
    "df_test['item_cnt_month']=df_test['item_cnt_month'].fillna(0).clip(0,20)\n",
    "df_test[['ID','item_cnt_month']].to_csv('submission_previous_month.csv', index=False)"
   ]
  },
  {
   "cell_type": "markdown",
   "metadata": {},
   "source": [
    "### **6.2.2 Average of the previous months**"
   ]
  },
  {
   "cell_type": "code",
   "execution_count": null,
   "metadata": {
    "execution": {
     "iopub.execute_input": "2022-02-22T11:58:47.547523Z",
     "iopub.status.busy": "2022-02-22T11:58:47.547227Z",
     "iopub.status.idle": "2022-02-22T11:58:48.063603Z",
     "shell.execute_reply": "2022-02-22T11:58:48.062701Z",
     "shell.execute_reply.started": "2022-02-22T11:58:47.547487Z"
    }
   },
   "outputs": [],
   "source": [
    "nb_months=3\n",
    "last_month_cnt=train[train['date_block_num']>33-nb_months].groupby(['shop_id','item_id'])['item_cnt_day'].sum().reset_index()\n",
    "last_month_cnt.rename(columns={'item_cnt_day':'item_cnt_month'},inplace=True)\n",
    "last_month_cnt['item_cnt_month']=last_month_cnt['item_cnt_month']/nb_months\n",
    "df_test=pd.merge(test, last_month_cnt, how=\"left\", on=[\"shop_id\", \"item_id\"])\n",
    "df_test['item_cnt_month']=df_test['item_cnt_month'].fillna(0).clip(0,20)\n",
    "df_test[['ID','item_cnt_month']].to_csv('submission_previous_month.csv', index=False)"
   ]
  },
  {
   "cell_type": "markdown",
   "metadata": {},
   "source": [
    "## **6.3 Non-Optimized XGBoost run** (Using GPU)"
   ]
  },
  {
   "cell_type": "code",
   "execution_count": null,
   "metadata": {
    "execution": {
     "iopub.execute_input": "2022-02-22T11:58:48.065218Z",
     "iopub.status.busy": "2022-02-22T11:58:48.064812Z",
     "iopub.status.idle": "2022-02-22T11:58:48.21128Z",
     "shell.execute_reply": "2022-02-22T11:58:48.210274Z",
     "shell.execute_reply.started": "2022-02-22T11:58:48.06518Z"
    }
   },
   "outputs": [],
   "source": [
    "############# Utility Functions to be used to check the score improvement at each step #########\n",
    "gc.collect()\n",
    "from xgboost import plot_importance\n",
    "def rmse(predictions, targets):\n",
    "    return np.sqrt(((predictions - targets) ** 2).mean())\n",
    "def plot_features(booster, figsize):\n",
    "    rcParams['figure.figsize'] = 12, 4\n",
    "    fig, ax = plt.subplots(1,1,figsize=figsize)\n",
    "    return plot_importance(booster=booster, ax=ax)\n",
    "def print_features(model):\n",
    "    feat_imp=model.feature_importances_\n",
    "    imp_df= pd.Series(feat_imp,index=list(X_train.columns))\n",
    "    print(imp_df.sort_values(ascending=False))\n",
    "\n",
    "params00={'max_depth': 10, 'eta': 0.01}\n",
    "params01={'max_depth': 9, 'eta': 0.01, 'min_child_weight': 10,\n",
    "          'subsample': 0.6, 'colsample_bytree': 0.6, 'alpha': 60,\n",
    "          'reg_lambda': 10, 'booster': 'gbtree', 'gamma': 0.1, 'grow_policy': 'depthwise'}\n",
    "\n",
    "def run_XGB_training(params,with_submission=True,with_val_preds=False,with_train_preds=False,show_feat=False,use_file=False,fname=''):\n",
    "    if (use_file):\n",
    "        model = pickle.load(open(PATH+fname, \"rb\"))\n",
    "    else:\n",
    "        model = XGBRegressor (tree_method='gpu_hist' ,seed = 42, n_estimators = 2000,**params)\n",
    "        model.fit(X_train,Y_train,eval_metric=\"rmse\",eval_set=[(X_train, Y_train), (X_valid, Y_valid)], \n",
    "            verbose=50, early_stopping_rounds = 20)\n",
    "        pickle.dump(model, open(fname, \"wb\"))\n",
    "    Y_test = model.predict(X_test).clip(0, 20) #.round()\n",
    "    if with_submission:\n",
    "        submission = pd.DataFrame({\"ID\": test.index,\"item_cnt_month\": Y_test })\n",
    "        submission.to_csv('submission_'+fname.split('.')[0]+'.csv', index=False)\n",
    "    Y_train_pred = model.predict(X_train).clip(0, 20) if with_train_preds else None\n",
    "    Y_valid_pred = model.predict(X_valid).clip(0, 20) if with_val_preds else None\n",
    "    if show_feat: print_features(model)\n",
    "    return model,Y_train_pred,Y_valid_pred,Y_test"
   ]
  },
  {
   "cell_type": "code",
   "execution_count": null,
   "metadata": {
    "execution": {
     "iopub.execute_input": "2022-02-22T11:58:48.214598Z",
     "iopub.status.busy": "2022-02-22T11:58:48.21432Z",
     "iopub.status.idle": "2022-02-22T11:58:48.223413Z",
     "shell.execute_reply": "2022-02-22T11:58:48.222663Z",
     "shell.execute_reply.started": "2022-02-22T11:58:48.214558Z"
    }
   },
   "outputs": [],
   "source": [
    "### The non-optimized XGBoost uses max_depth of 10 and a learning_rate of 0.01.\n",
    "### All other parameters are default\n",
    "if (START_FROM<3):\n",
    "    model_fname='xgboost_model_6_3_params00.json'\n",
    "    model,_,_,_=run_XGB_training(params00,show_feat=True,use_file=USE_SERIALIZED_MODELS,fname=model_fname)\n",
    "    del model\n",
    "# Fitting last step: [364]\tvalidation_0-rmse:0.77076\tvalidation_1-rmse:0.80252\n",
    "# The coursera grader scores are: Public = 0.890974 and 0.890504\n",
    "# The Features Engineering allowed to go from a baseline score of 1.17 to 0.89. A significant jump.\n",
    "# The Coursera grade is 10/10.\n",
    "# If Rounding is added the scores are: 0.908243 and 0.908154"
   ]
  },
  {
   "cell_type": "markdown",
   "metadata": {},
   "source": [
    "# **7. Leakage Detection**"
   ]
  },
  {
   "cell_type": "markdown",
   "metadata": {},
   "source": [
    "## 7.1 Checking the correlation 1- between features and 2- between features and Target"
   ]
  },
  {
   "cell_type": "code",
   "execution_count": null,
   "metadata": {
    "execution": {
     "iopub.execute_input": "2022-02-22T11:58:48.22518Z",
     "iopub.status.busy": "2022-02-22T11:58:48.224597Z",
     "iopub.status.idle": "2022-02-22T11:58:48.23317Z",
     "shell.execute_reply": "2022-02-22T11:58:48.23244Z",
     "shell.execute_reply.started": "2022-02-22T11:58:48.225141Z"
    }
   },
   "outputs": [],
   "source": [
    "if (START_FROM<3):\n",
    "    df=pd.concat([X_train,Y_train],axis=1)\n",
    "    corr = df.corr(method='spearman')\n",
    "    gc.collect()\n",
    "    sns.heatmap(corr, cmap=\"Blues\")"
   ]
  },
  {
   "cell_type": "code",
   "execution_count": null,
   "metadata": {
    "execution": {
     "iopub.execute_input": "2022-02-22T11:58:48.236355Z",
     "iopub.status.busy": "2022-02-22T11:58:48.235714Z",
     "iopub.status.idle": "2022-02-22T11:58:48.241558Z",
     "shell.execute_reply": "2022-02-22T11:58:48.240846Z",
     "shell.execute_reply.started": "2022-02-22T11:58:48.236311Z"
    }
   },
   "outputs": [],
   "source": [
    "if (START_FROM<3):\n",
    "    corr.to_csv('correlation_before_MeanEncoding.csv')\n",
    "    # It's better to analyze the matrix in MS Excel\n",
    "    #print(corr[corr>0.7])"
   ]
  },
  {
   "cell_type": "code",
   "execution_count": null,
   "metadata": {
    "execution": {
     "iopub.execute_input": "2022-02-22T11:58:48.243452Z",
     "iopub.status.busy": "2022-02-22T11:58:48.242788Z",
     "iopub.status.idle": "2022-02-22T11:58:48.249929Z",
     "shell.execute_reply": "2022-02-22T11:58:48.249219Z",
     "shell.execute_reply.started": "2022-02-22T11:58:48.243412Z"
    }
   },
   "outputs": [],
   "source": [
    "# Very high correlation between the features and the Target indicates a potential Leakage\n",
    "if (START_FROM<3):\n",
    "    target_corr=corr['item_cnt_month']\n",
    "    print(target_corr[target_corr>0.25])\n",
    "# There are 10 features"
   ]
  },
  {
   "cell_type": "markdown",
   "metadata": {},
   "source": [
    "## 7.2 Using Hierarchical Clustering to eliminate redundant features"
   ]
  },
  {
   "cell_type": "code",
   "execution_count": null,
   "metadata": {
    "execution": {
     "iopub.execute_input": "2022-02-22T11:58:48.251826Z",
     "iopub.status.busy": "2022-02-22T11:58:48.251032Z",
     "iopub.status.idle": "2022-02-22T11:58:48.261702Z",
     "shell.execute_reply": "2022-02-22T11:58:48.260965Z",
     "shell.execute_reply.started": "2022-02-22T11:58:48.251787Z"
    }
   },
   "outputs": [],
   "source": [
    "if (START_FROM<3):\n",
    "    import scipy\n",
    "    from scipy.cluster import hierarchy as hc\n",
    "    def find_FeaturesToKeep(df,threshold):\n",
    "        corr = np.round(scipy.stats.spearmanr(df).correlation, 4)\n",
    "        corr_condensed = hc.distance.squareform(1-corr)\n",
    "        z = hc.linkage(corr_condensed, method='average')\n",
    "        T = hc.fcluster(z, threshold, criterion='distance')\n",
    "        #L, M = hc.leaders(z, T)\n",
    "        _,ix=np.unique(T,return_index=True)\n",
    "        return df.columns[ix]\n",
    "\n",
    "    features_to_keep=list(find_FeaturesToKeep(X_train,0.03))\n",
    "    print('#Features to be removed= ',X_train.shape[1]-len(features_to_keep),'. Total #Features: ',X_train.shape[1])\n",
    "    for a in aggregation_cols:\n",
    "        if (~pd.Series(features_to_keep).isin([a]).any()):\n",
    "            features_to_keep.append(a)\n",
    "            print('one of the essentials added. It has strong correclation with some features: ',a)\n",
    "    features_to_drop2=set(X_train.columns)-set(features_to_keep)\n",
    "    gc.collect()\n",
    "    #print('Features to be removed from Correlation= ',features_to_drop1)\n",
    "    print('Features to be removed from HC= ',features_to_drop2)\n",
    "    ## For HC threshold =0.03 ==> {'date_shop_item_avg_item_cnt_lag_2', 'type_code', 'date_shop_subtype2_avg_item_cnt_lag_1',\n",
    "    ##'date_shop_item_avg_item_cnt_lag_3', 'shop_city', 'date_shop_item_avg_item_cnt_lag_1', 'sub_type_code2'}"
   ]
  },
  {
   "cell_type": "markdown",
   "metadata": {},
   "source": [
    "# **8. Mean/Target Encoding**"
   ]
  },
  {
   "cell_type": "code",
   "execution_count": null,
   "metadata": {
    "execution": {
     "iopub.execute_input": "2022-02-22T11:58:48.263589Z",
     "iopub.status.busy": "2022-02-22T11:58:48.262873Z",
     "iopub.status.idle": "2022-02-22T11:58:48.273591Z",
     "shell.execute_reply": "2022-02-22T11:58:48.272778Z",
     "shell.execute_reply.started": "2022-02-22T11:58:48.263553Z"
    }
   },
   "outputs": [],
   "source": [
    "# Using Leave one out coding for categorical features + adding noise + Cross-validation\n",
    "if (START_FROM<3):\n",
    "    cat_cols=['item_category_id','shop_category' ,'shop_city','sub_type_code1','sub_type_code2','type_code']\n",
    "    #from category_encoders.target_encoder import TargetEncoder #\n",
    "    from category_encoders.leave_one_out import LeaveOneOutEncoder\n",
    "    from category_encoders.wrapper import NestedCVWrapper\n",
    "    t_enc=LeaveOneOutEncoder(cols=cat_cols,sigma=0)\n",
    "    n_enc=NestedCVWrapper(t_enc, cv=5, shuffle=True, random_state=999)\n",
    "    X_train=n_enc.fit_transform(X_train,Y_train)\n",
    "    X_valid=n_enc.transform(X_valid)\n",
    "    X_test=n_enc.transform(X_test)\n",
    "    for col in cat_cols:\n",
    "        X_train[col]=X_train[col].astype(np.float16)\n",
    "        X_valid[col]=X_valid[col].astype(np.float16)\n",
    "        X_test[col]=X_test[col].astype(np.float16)\n",
    "    gc.collect()\n",
    "    print(X_train[cat_cols])"
   ]
  },
  {
   "cell_type": "code",
   "execution_count": null,
   "metadata": {
    "execution": {
     "iopub.execute_input": "2022-02-22T11:58:48.275524Z",
     "iopub.status.busy": "2022-02-22T11:58:48.274773Z",
     "iopub.status.idle": "2022-02-22T11:58:48.283884Z",
     "shell.execute_reply": "2022-02-22T11:58:48.283158Z",
     "shell.execute_reply.started": "2022-02-22T11:58:48.275483Z"
    }
   },
   "outputs": [],
   "source": [
    "if (START_FROM<3):\n",
    "    pickle.dump( (X_train,Y_train,X_valid,Y_valid,X_test), open( \"training_datasets_MeanEnc_sigma0_10Feb.pkl\", \"wb\" ) )\n",
    "    print('Until after_mean_encoding Executed!')\n",
    "else:\n",
    "    print('Jumped after_mean_encoding!')"
   ]
  },
  {
   "cell_type": "code",
   "execution_count": null,
   "metadata": {
    "execution": {
     "iopub.execute_input": "2022-02-22T11:58:48.287511Z",
     "iopub.status.busy": "2022-02-22T11:58:48.284943Z",
     "iopub.status.idle": "2022-02-22T11:58:48.292466Z",
     "shell.execute_reply": "2022-02-22T11:58:48.291688Z",
     "shell.execute_reply.started": "2022-02-22T11:58:48.287478Z"
    }
   },
   "outputs": [],
   "source": [
    "# Running again XGBoost with the same previous model\n",
    "if (START_FROM<3):\n",
    "    model_fname='xgboost_model_8_0.json'\n",
    "    model,_,_,_=run_XGB_training(params00,show_feat=True,use_file=USE_SERIALIZED_MODELS,fname=model_fname)\n",
    "    del model\n",
    "# Without Mean Encoding : Public = 0.890974 and Private=0.890504\n",
    "#############  Using LeaveOneOut+CV Encoder with Sigma=0.0#######################\n",
    "# Fitting last step:  [350]\tvalidation_0-rmse:0.76802\tvalidation_1-rmse:0.78811\n",
    "# With Mean Encoding :    Public =0.881963 and Private =0.885066"
   ]
  },
  {
   "cell_type": "code",
   "execution_count": null,
   "metadata": {
    "execution": {
     "iopub.execute_input": "2022-02-22T11:58:48.29381Z",
     "iopub.status.busy": "2022-02-22T11:58:48.293509Z",
     "iopub.status.idle": "2022-02-22T11:59:05.745147Z",
     "shell.execute_reply": "2022-02-22T11:59:05.744426Z",
     "shell.execute_reply.started": "2022-02-22T11:58:48.293775Z"
    }
   },
   "outputs": [],
   "source": [
    "if (START_FROM==3):\n",
    "    X_train,Y_train,X_valid,Y_valid,X_test = pickle.load(open( PATH+'training_datasets_MeanEnc_sigma0_10Feb.pkl', \"rb\" ) )\n",
    "    print('Train/Valid/Test Data Loaded after_mean_encoding!')"
   ]
  },
  {
   "cell_type": "markdown",
   "metadata": {},
   "source": [
    "# **9. Dropping Redundant and non-important Features**"
   ]
  },
  {
   "cell_type": "markdown",
   "metadata": {},
   "source": [
    "***Iterate between Feature Importance, Correlation and HC as long as the Score is improving***"
   ]
  },
  {
   "cell_type": "code",
   "execution_count": null,
   "metadata": {
    "execution": {
     "iopub.execute_input": "2022-02-22T11:59:05.746714Z",
     "iopub.status.busy": "2022-02-22T11:59:05.746275Z",
     "iopub.status.idle": "2022-02-22T11:59:06.886407Z",
     "shell.execute_reply": "2022-02-22T11:59:06.885628Z",
     "shell.execute_reply.started": "2022-02-22T11:59:05.746676Z"
    }
   },
   "outputs": [],
   "source": [
    "col_to_drop=[ 'date_shop_item_avg_item_cnt_lag_3', 'date_shop_item_avg_item_cnt_lag_1',\n",
    "             'date_shop_item_avg_item_cnt_lag_2', 'year',\n",
    "             #'sub_type_code1','date_shop_subtype1_avg_item_cnt_lag_1', 'type_code','nb_holiday_days'\n",
    "            ]\n",
    "#'date_shop_avg_item_cnt_lag_3']#,'nb_holiday_days']\n",
    "#'sub_type_code2', 'type_code','date_shop_subtype2_avg_item_cnt_lag_1',\n",
    "def drop_cols(cols):\n",
    "    X_train.drop(cols,axis=1,inplace=True)\n",
    "    X_valid.drop(cols,axis=1,inplace=True)\n",
    "    X_test.drop(cols,axis=1,inplace=True)\n",
    "print('Shape before: ',X_train.shape)\n",
    "drop_cols(col_to_drop)\n",
    "gc.collect()\n",
    "print('Shape afer: ',X_train.shape)"
   ]
  },
  {
   "cell_type": "code",
   "execution_count": null,
   "metadata": {
    "execution": {
     "iopub.execute_input": "2022-02-22T11:59:06.888387Z",
     "iopub.status.busy": "2022-02-22T11:59:06.887562Z",
     "iopub.status.idle": "2022-02-22T11:59:12.011537Z",
     "shell.execute_reply": "2022-02-22T11:59:12.009723Z",
     "shell.execute_reply.started": "2022-02-22T11:59:06.888332Z"
    }
   },
   "outputs": [],
   "source": [
    "# Running again XGBoost with the same previous model to check the impact of Dropping the above features\n",
    "model_fname='xgboost_model_9_0.json'\n",
    "model,_,_,_=run_XGB_training(params00,show_feat=True,use_file=USE_SERIALIZED_MODELS,fname=model_fname)\n",
    "del model\n",
    "#### Public/Private = 0.881963 and 0.885066"
   ]
  },
  {
   "cell_type": "markdown",
   "metadata": {},
   "source": [
    "# **10. Algorithm Optimization**"
   ]
  },
  {
   "cell_type": "markdown",
   "metadata": {},
   "source": [
    "* I used OPTUNA to finetune the hyperparameters for XGBoost, CatBoost, LGBM and Fastai Tabular Neural Network. "
   ]
  },
  {
   "cell_type": "code",
   "execution_count": null,
   "metadata": {
    "execution": {
     "iopub.execute_input": "2022-02-22T11:59:12.013485Z",
     "iopub.status.busy": "2022-02-22T11:59:12.013163Z",
     "iopub.status.idle": "2022-02-22T11:59:12.019082Z",
     "shell.execute_reply": "2022-02-22T11:59:12.018125Z",
     "shell.execute_reply.started": "2022-02-22T11:59:12.013444Z"
    }
   },
   "outputs": [],
   "source": [
    "# These lists will be used for Ensembling and Stacking\n",
    "test_preds=[]\n",
    "val_preds=[]"
   ]
  },
  {
   "cell_type": "markdown",
   "metadata": {},
   "source": [
    "## **10.1 XGBoost**"
   ]
  },
  {
   "cell_type": "code",
   "execution_count": null,
   "metadata": {
    "execution": {
     "iopub.execute_input": "2022-02-22T11:59:12.021199Z",
     "iopub.status.busy": "2022-02-22T11:59:12.020606Z",
     "iopub.status.idle": "2022-02-22T11:59:14.529557Z",
     "shell.execute_reply": "2022-02-22T11:59:14.528896Z",
     "shell.execute_reply.started": "2022-02-22T11:59:12.021156Z"
    }
   },
   "outputs": [],
   "source": [
    "gc.collect()\n",
    "\n",
    "def execute_XGB():\n",
    "    params43={'max_depth': 11, 'eta': 0.0814409011722099, 'min_child_weight': 36.28309377320559,\n",
    "              'subsample': 0.5871817395511052, 'colsample_bytree': 0.8278290725391293, 'alpha': 47.73774236898744,\n",
    "              'reg_lambda': 73.30489520665812, 'gamma': 3.866115369278931e-08, 'grow_policy': 'depthwise'}\n",
    "\n",
    "    xgb_config_list=[(params43,'xgboost_model_10_1_params43.json'), ]\n",
    "    xgb_config_num=0\n",
    "    model,_,Y_val_preds,Y_test=run_XGB_training(xgb_config_list[xgb_config_num][0],with_submission=True,with_val_preds=True,\n",
    "                with_train_preds=False,show_feat=False,use_file=USE_SERIALIZED_MODELS,fname=xgb_config_list[xgb_config_num][1])\n",
    "    del model\n",
    "\n",
    "    test_preds.append(Y_test)\n",
    "    val_preds.append(Y_val_preds)\n",
    "    \n",
    "execute_XGB()"
   ]
  },
  {
   "cell_type": "markdown",
   "metadata": {},
   "source": [
    "## **10.2 LGBM**"
   ]
  },
  {
   "cell_type": "code",
   "execution_count": null,
   "metadata": {
    "execution": {
     "iopub.execute_input": "2022-02-22T11:59:14.53176Z",
     "iopub.status.busy": "2022-02-22T11:59:14.531199Z",
     "iopub.status.idle": "2022-02-22T12:01:38.077722Z",
     "shell.execute_reply": "2022-02-22T12:01:38.076873Z",
     "shell.execute_reply.started": "2022-02-22T11:59:14.531718Z"
    }
   },
   "outputs": [],
   "source": [
    "import lightgbm as lgb\n",
    "def get_LGBM_preds(use_file=False,fname=''):\n",
    "\n",
    "    lgb_train = lgb.Dataset(X_train, Y_train, free_raw_data=False)\n",
    "    lgb_val = lgb.Dataset(X_valid, Y_valid, reference=lgb_train, free_raw_data=False)\n",
    "       \n",
    "    lgbm_params_01 ={'device':'gpu','objective': 'mse','metric': 'rmse','verbosity': -1,'seed': 1,\n",
    "        'max_depth': 13, 'num_leaves': 741, 'learning_rate': 0.003, 'feature_fraction': 0.6887144607407563, #0.013722823689461533\n",
    "                     'bagging_fraction': 0.6863818533659629, 'bagging_freq': 1, 'min_data_in_leaf': 200, 'min_sum_hessian_in_leaf': 46,\n",
    "                     'force_row_wise': True, 'reg_alpha': 106.16746153811141, 'reg_lambda': 1.0363719834284624, 'min_gain_to_split': 9.885189405702652, 'max_bin': 170}\n",
    "    if (use_file):\n",
    "        model = pickle.load(open(PATH+fname, \"rb\"))\n",
    "    else:          \n",
    "        model = lgb.train(lgbm_params_01, lgb_train, num_boost_round = 5000,valid_names=['train', 'valid'],  \n",
    "                          valid_sets=[lgb_train, lgb_val],\n",
    "                     callbacks=[lgb.log_evaluation(period=100, show_stdv=False),\n",
    "                      lgb.early_stopping(30, first_metric_only=True, verbose=True)])\n",
    "        pickle.dump(model, open(fname, \"wb\"))\n",
    "    \n",
    "    test_preds=model.predict(X_test)\n",
    "    val_preds=model.predict(X_valid)  \n",
    "\n",
    "    return test_preds,val_preds\n",
    "\n",
    "def execute_LGBM():\n",
    "    model_fname='lgbm_model_10_2.json'\n",
    "    # No categorical variables declared !! may be for the future\n",
    "    Y_test,v_preds=get_LGBM_preds(USE_SERIALIZED_MODELS,fname=model_fname)\n",
    "    submission = pd.DataFrame({\"ID\": test.index,\"item_cnt_month\": Y_test })\n",
    "    submission.to_csv('submission_'+model_fname.split('.')[0]+'.csv', index=False)\n",
    "\n",
    "    test_preds.append(Y_test)\n",
    "    val_preds.append(v_preds)\n",
    "    gc.collect()\n",
    "\n",
    "    \n",
    "execute_LGBM()"
   ]
  },
  {
   "cell_type": "markdown",
   "metadata": {},
   "source": [
    "## **10.3 Fastai Tabular (NN)**"
   ]
  },
  {
   "cell_type": "markdown",
   "metadata": {},
   "source": [
    "## **10.4 Random Forest** (using XGB GPU Random Forest)"
   ]
  },
  {
   "cell_type": "code",
   "execution_count": null,
   "metadata": {
    "execution": {
     "iopub.execute_input": "2022-02-22T12:01:38.079221Z",
     "iopub.status.busy": "2022-02-22T12:01:38.078954Z",
     "iopub.status.idle": "2022-02-22T12:01:38.085254Z",
     "shell.execute_reply": "2022-02-22T12:01:38.08453Z",
     "shell.execute_reply.started": "2022-02-22T12:01:38.079183Z"
    }
   },
   "outputs": [],
   "source": [
    "from xgboost import XGBRFRegressor\n",
    "#X_train,Y_train,X_valid,Y_valid,X_test = pickle.load(open( PATH+\"training_datasets_MeanEnc_sigma0_10Feb.pkl\", \"rb\" ) )\n",
    "#drop_cols(col_to_drop)\n",
    "#gc.collect()"
   ]
  },
  {
   "cell_type": "code",
   "execution_count": null,
   "metadata": {
    "execution": {
     "iopub.execute_input": "2022-02-22T12:01:38.088127Z",
     "iopub.status.busy": "2022-02-22T12:01:38.086953Z",
     "iopub.status.idle": "2022-02-22T12:01:48.708066Z",
     "shell.execute_reply": "2022-02-22T12:01:48.707291Z",
     "shell.execute_reply.started": "2022-02-22T12:01:38.088079Z"
    }
   },
   "outputs": [],
   "source": [
    "def excute_RF():\n",
    "    model_fname='RF_model_10_4.json'\n",
    "    \n",
    "    if (USE_SERIALIZED_MODELS):\n",
    "        model = pickle.load(open(PATH+model_fname, \"rb\"))\n",
    "    else:  \n",
    "        model = XGBRFRegressor(tree_method='gpu_hist' ,seed = 42, n_estimators = 200,max_depth =13,\n",
    "                           colsample_bytree=0.8,subsample=0.8,colsample_bynode=0.4,reg_alpha=10)\n",
    "        model.fit(X_train,Y_train,eval_metric=\"rmse\",eval_set=[(X_train, Y_train), (X_valid, Y_valid)],verbose=50)\n",
    "        pickle.dump(model, open(model_fname, \"wb\"))\n",
    "    \n",
    "    Y_valid_pred = model.predict(X_valid).clip(0, 20)\n",
    "    Y_test = model.predict(X_test).clip(0, 20)\n",
    "    submission = pd.DataFrame({\"ID\": test.index,\"item_cnt_month\": Y_test })\n",
    "    submission.to_csv('submission_'+model_fname.split('.')[0]+'.csv', index=False)\n",
    "    test_preds.append(Y_test)\n",
    "    val_preds.append(Y_valid_pred)\n",
    "excute_RF()    \n",
    "gc.collect()"
   ]
  },
  {
   "cell_type": "markdown",
   "metadata": {},
   "source": [
    "## **10.5 CatBoost**"
   ]
  },
  {
   "cell_type": "markdown",
   "metadata": {},
   "source": [
    "* It uses its own Mean Encoding for Categorical variables.\n",
    "* We load the Train/Valid/Test Datasets before the Mean Encoding"
   ]
  },
  {
   "cell_type": "code",
   "execution_count": null,
   "metadata": {
    "execution": {
     "iopub.execute_input": "2022-02-22T12:02:16.621316Z",
     "iopub.status.busy": "2022-02-22T12:02:16.62103Z",
     "iopub.status.idle": "2022-02-22T12:02:33.114839Z",
     "shell.execute_reply": "2022-02-22T12:02:33.114091Z",
     "shell.execute_reply.started": "2022-02-22T12:02:16.621286Z"
    }
   },
   "outputs": [],
   "source": [
    "PATH_cb = '' if START_FROM<2 else PATH\n",
    "X_train,Y_train,X_valid,Y_valid,X_test = pickle.load(open( PATH_cb+\"training_datasets_00_10Feb.pkl\", \"rb\" ) )\n",
    "drop_cols(col_to_drop)\n",
    "gc.collect()\n",
    "def execute_catBoost():\n",
    "    model_fname='catboost_model_10_5.json'\n",
    "    cat_cols=['shop_category' ,'shop_city','item_category_id','sub_type_code2','sub_type_code1','type_code']\n",
    "    params_cb_00={'learning_rate': 0.01, 'depth': 14, 'min_data_in_leaf': 1000, 'l2_leaf_reg': 0.001, 'bagging_temperature': 0.7, 'random_strength': 0.3}\n",
    "    params_cb_01={'learning_rate': 0.01, 'depth': 11, 'min_data_in_leaf': 481, 'l2_leaf_reg': 0.1, 'bagging_temperature': 0.3, 'random_strength': 0.22}\n",
    "    import catboost as cb\n",
    "\n",
    "    if (USE_SERIALIZED_MODELS):\n",
    "            model = pickle.load(open(PATH+model_fname, \"rb\"))\n",
    "    else:          \n",
    "        model = cb.CatBoostRegressor(iterations=1000,loss_function='RMSE', eval_metric='RMSE',random_seed=23,od_wait=100, \n",
    "             od_type='Iter', metric_period=100,task_type='GPU',devices='0:1',**params_cb_00)\n",
    "        model.fit(X_train, Y_train,cat_features=cat_cols,eval_set=[(X_valid, Y_valid)],use_best_model=True,early_stopping_rounds = 20)\n",
    "        pickle.dump(model, open(model_fname, \"wb\"))\n",
    "\n",
    "    Y_valid_pred = model.predict(X_valid).clip(0, 20)\n",
    "    Y_test = model.predict(X_test).clip(0, 20)\n",
    "    submission = pd.DataFrame({\"ID\": test.index,\"item_cnt_month\": Y_test })\n",
    "    submission.to_csv('submission_'+model_fname.split('.')[0]+'.csv', index=False)\n",
    "    gc.collect()\n",
    "    test_preds.append(Y_test)\n",
    "    val_preds.append(Y_valid_pred)\n",
    "\n",
    "execute_catBoost()"
   ]
  },
  {
   "cell_type": "markdown",
   "metadata": {},
   "source": [
    "# **11. Ensembling and Stacking**"
   ]
  },
  {
   "cell_type": "code",
   "execution_count": null,
   "metadata": {
    "execution": {
     "iopub.execute_input": "2022-02-22T12:02:33.116804Z",
     "iopub.status.busy": "2022-02-22T12:02:33.116541Z",
     "iopub.status.idle": "2022-02-22T12:02:33.133761Z",
     "shell.execute_reply": "2022-02-22T12:02:33.133087Z",
     "shell.execute_reply.started": "2022-02-22T12:02:33.116768Z"
    }
   },
   "outputs": [],
   "source": [
    "import copy\n",
    "test_preds_orig=copy.deepcopy(test_preds)\n",
    "pickle.dump((val_preds,test_preds), open('val_test_preds.pkl', \"wb\"))"
   ]
  },
  {
   "cell_type": "code",
   "execution_count": null,
   "metadata": {
    "execution": {
     "iopub.execute_input": "2022-02-22T12:02:33.135737Z",
     "iopub.status.busy": "2022-02-22T12:02:33.135007Z",
     "iopub.status.idle": "2022-02-22T12:02:33.139716Z",
     "shell.execute_reply": "2022-02-22T12:02:33.13884Z",
     "shell.execute_reply.started": "2022-02-22T12:02:33.135698Z"
    }
   },
   "outputs": [],
   "source": [
    "ENSEMBLING_METHOD=2"
   ]
  },
  {
   "cell_type": "code",
   "execution_count": null,
   "metadata": {
    "execution": {
     "iopub.execute_input": "2022-02-22T12:02:33.141616Z",
     "iopub.status.busy": "2022-02-22T12:02:33.140888Z",
     "iopub.status.idle": "2022-02-22T12:02:33.149703Z",
     "shell.execute_reply": "2022-02-22T12:02:33.148942Z",
     "shell.execute_reply.started": "2022-02-22T12:02:33.141579Z"
    }
   },
   "outputs": [],
   "source": [
    "#val_preds,test_preds=pickle.load(open(\"val_test_preds.pkl\", \"rb\" ) )\n",
    "len(val_preds),len(test_preds)"
   ]
  },
  {
   "cell_type": "markdown",
   "metadata": {},
   "source": [
    "## **11.1 Ensembling**"
   ]
  },
  {
   "cell_type": "code",
   "execution_count": null,
   "metadata": {
    "execution": {
     "iopub.execute_input": "2022-02-22T12:02:33.152217Z",
     "iopub.status.busy": "2022-02-22T12:02:33.151773Z",
     "iopub.status.idle": "2022-02-22T12:02:33.161343Z",
     "shell.execute_reply": "2022-02-22T12:02:33.160661Z",
     "shell.execute_reply.started": "2022-02-22T12:02:33.152178Z"
    }
   },
   "outputs": [],
   "source": [
    "from scipy.optimize import differential_evolution\n",
    "from scipy.optimize import NonlinearConstraint\n",
    "\n",
    "n_estimations=len(val_preds)\n",
    "def constr_f(x):\n",
    "    return np.sum(x)\n",
    "def hess_zero(y,z): return [0]*n_estimations\n",
    "def objective(x):\n",
    "  weighted_sum=np.zeros_like(val_preds[0])\n",
    "  for i in range(n_estimations):\n",
    "      weighted_sum+=(val_preds[i]*x[i])\n",
    "  return rmse(weighted_sum,Y_valid)\n",
    "\n",
    "def get_ensemble_weight():\n",
    "    # the sum of elements in x must be 1\n",
    "    nlc = NonlinearConstraint(constr_f, 1, 1,hess=hess_zero)# lower bound, upper bound\n",
    "    bounds = [[0, 1]]*n_estimations\n",
    "    result = differential_evolution(objective, bounds,constraints=nlc)\n",
    "    return result['x']\n",
    "\n",
    "def ensemble_preds():\n",
    "    weights=get_ensemble_weight()\n",
    "    test_preds_final=np.average(test_preds,axis=0,weights=weights)#np.round(\n",
    "    print('# Estimators: ',len(test_preds))\n",
    "    print('Enseble Weights: ',weights,'. Sum= ',weights.sum())\n",
    "    return [test_preds_final]\n",
    "\n",
    "if ENSEMBLING_METHOD==1: \n",
    "    test_preds=ensemble_preds()"
   ]
  },
  {
   "cell_type": "markdown",
   "metadata": {},
   "source": [
    "## **11.2 Stacking**"
   ]
  },
  {
   "cell_type": "code",
   "execution_count": null,
   "metadata": {
    "execution": {
     "iopub.execute_input": "2022-02-22T12:02:33.163236Z",
     "iopub.status.busy": "2022-02-22T12:02:33.162494Z",
     "iopub.status.idle": "2022-02-22T12:02:33.228706Z",
     "shell.execute_reply": "2022-02-22T12:02:33.227777Z",
     "shell.execute_reply.started": "2022-02-22T12:02:33.163198Z"
    }
   },
   "outputs": [],
   "source": [
    "from sklearn.linear_model import LinearRegression\n",
    "meta_model = LinearRegression()\n",
    "\n",
    "def stacking_preds(meta_model,v_preds,t_preds,y_val):\n",
    "    stacked_predictions=np.column_stack(v_preds)\n",
    "    stacked_test_predictions=np.column_stack(t_preds)\n",
    "    \n",
    "    #fit meta model on stacked predictions\n",
    "    meta_model.fit(stacked_predictions,y_val)\n",
    "    print('RMSE =',rmse(meta_model.predict(stacked_predictions).clip(0, 20),y_val))\n",
    "    return [meta_model.predict(stacked_test_predictions).clip(0, 20)]\n",
    "\n",
    "if ENSEMBLING_METHOD==2:\n",
    "    test_preds=stacking_preds(meta_model,val_preds,test_preds,Y_valid)"
   ]
  },
  {
   "cell_type": "markdown",
   "metadata": {},
   "source": [
    "# **12. Inference and Submission**"
   ]
  },
  {
   "cell_type": "code",
   "execution_count": null,
   "metadata": {
    "execution": {
     "iopub.execute_input": "2022-02-22T12:02:33.231257Z",
     "iopub.status.busy": "2022-02-22T12:02:33.23029Z",
     "iopub.status.idle": "2022-02-22T12:02:34.670365Z",
     "shell.execute_reply": "2022-02-22T12:02:34.669393Z",
     "shell.execute_reply.started": "2022-02-22T12:02:33.231211Z"
    }
   },
   "outputs": [],
   "source": [
    "Y_test=np.average(test_preds,axis=0)\n",
    "submission = pd.DataFrame({\n",
    "    \"ID\": test.index, \n",
    "    \"item_cnt_month\": Y_test\n",
    "})\n",
    "submission.to_csv('submission_'+str(ENSEMBLING_METHOD)+'.csv', index=False)\n",
    "submission.to_csv('submission.csv', index=False)\n"
   ]
  }
 ],
 "metadata": {
  "kernelspec": {
   "display_name": "Python 3 (ipykernel)",
   "language": "python",
   "name": "python3"
  },
  "language_info": {
   "codemirror_mode": {
    "name": "ipython",
    "version": 3
   },
   "file_extension": ".py",
   "mimetype": "text/x-python",
   "name": "python",
   "nbconvert_exporter": "python",
   "pygments_lexer": "ipython3",
   "version": "3.8.8"
  }
 },
 "nbformat": 4,
 "nbformat_minor": 4
}
